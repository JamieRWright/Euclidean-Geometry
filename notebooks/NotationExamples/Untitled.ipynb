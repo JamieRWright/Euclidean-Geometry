{
 "cells": [
  {
   "cell_type": "code",
   "execution_count": 2,
   "metadata": {},
   "outputs": [],
   "source": [
    "%run DreamNotation.ipynb"
   ]
  },
  {
   "cell_type": "code",
   "execution_count": 3,
   "metadata": {},
   "outputs": [],
   "source": [
    "A = GeometricWorld.point(\"A\")\n",
    "B = GeometricWorld.point(\"B\")\n",
    "C = GeometricWorld.point(\"C\")\n",
    "D = GeometricWorld.point(\"D\")\n",
    "P = GeometricWorld.point(\"P\")\n",
    "\n",
    "anglePAB = GeometricWorld.angle(P, A, B, \"PAB\")\n",
    "anglePCD = GeometricWorld.angle(P, C, D, \"PCD\")\n",
    "\n",
    "PAB = GeometricWorld.triangle(P, A, B, \"PAB\")\n",
    "PCD = GeometricWorld.triangle(P, C, D, \"PCD\")"
   ]
  },
  {
   "cell_type": "code",
   "execution_count": null,
   "metadata": {},
   "outputs": [],
   "source": []
  }
 ],
 "metadata": {
  "kernelspec": {
   "display_name": "SageMath 9.0",
   "language": "sage",
   "name": "sagemath"
  },
  "language_info": {
   "codemirror_mode": {
    "name": "ipython",
    "version": 3
   },
   "file_extension": ".py",
   "mimetype": "text/x-python",
   "name": "python",
   "nbconvert_exporter": "python",
   "pygments_lexer": "ipython3",
   "version": "3.7.3"
  }
 },
 "nbformat": 4,
 "nbformat_minor": 2
}
