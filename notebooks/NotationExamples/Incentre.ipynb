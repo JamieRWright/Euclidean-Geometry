{
 "cells": [
  {
   "cell_type": "code",
   "execution_count": 1,
   "metadata": {},
   "outputs": [],
   "source": [
    "%run DreamNotation.ipynb"
   ]
  },
  {
   "cell_type": "code",
   "execution_count": 2,
   "metadata": {},
   "outputs": [],
   "source": [
    "A = GeometricWorld.point(\"A\")\n",
    "B = GeometricWorld.point(\"B\")\n",
    "C = GeometricWorld.point(\"C\")"
   ]
  },
  {
   "cell_type": "code",
   "execution_count": 3,
   "metadata": {},
   "outputs": [],
   "source": [
    "# incentre\n",
    "I = GeometricWorld.point(\"I\")\n",
    "\n",
    "BAI = GeometricWorld.angle(B, A, I, \"BAI\")\n",
    "IAC = GeometricWorld.angle(I, A, C, \"IAC\")\n",
    "\n",
    "CBI = GeometricWorld.angle(C, B, I, \"CBI\")\n",
    "IBA = GeometricWorld.angle(I, B, A, \"IBA\")\n",
    "\n",
    "ACI = GeometricWorld.angle(A, C, I, \"ACI\")\n",
    "ICB = GeometricWorld.angle(I, C, B, \"ICB\")\n",
    "\n",
    "T = GeometricWorld.triangle(A, B, C, \"T\")\n",
    "T1 = GeometricWorld.triangle(I, B, C, \"T1\")\n",
    "T2 = GeometricWorld.triangle(A, I, C, \"T2\")\n",
    "T3 = GeometricWorld.triangle(A, B, I, \"T3\")"
   ]
  },
  {
   "cell_type": "code",
   "execution_count": 4,
   "metadata": {},
   "outputs": [],
   "source": [
    "J = (BAI.tangent()\n",
    "   + ACI.tangent()\n",
    "   + CBI.tangent()\n",
    "   + IAC.tangent()\n",
    "   + IBA.tangent()\n",
    "   + ICB.tangent()\n",
    "   + ACI.isEqual(ICB)\n",
    "   + BAI.isEqual(IAC)\n",
    "   + T.nondegenerate()\n",
    "   + T1.nondegenerate()\n",
    "   + T2.nondegenerate()\n",
    "   + T3.nondegenerate())"
   ]
  },
  {
   "cell_type": "code",
   "execution_count": 5,
   "metadata": {},
   "outputs": [
    {
     "data": {
      "text/plain": [
       "True"
      ]
     },
     "execution_count": 5,
     "metadata": {},
     "output_type": "execute_result"
    }
   ],
   "source": [
    "CBI.isEqual(IBA) <= J"
   ]
  },
  {
   "cell_type": "code",
   "execution_count": null,
   "metadata": {},
   "outputs": [],
   "source": []
  }
 ],
 "metadata": {
  "kernelspec": {
   "display_name": "SageMath 9.1",
   "language": "sage",
   "name": "sagemath"
  },
  "language_info": {
   "codemirror_mode": {
    "name": "ipython",
    "version": 3
   },
   "file_extension": ".py",
   "mimetype": "text/x-python",
   "name": "python",
   "nbconvert_exporter": "python",
   "pygments_lexer": "ipython3",
   "version": "3.7.3"
  }
 },
 "nbformat": 4,
 "nbformat_minor": 2
}
