{
 "cells": [
  {
   "cell_type": "code",
   "execution_count": 1,
   "metadata": {},
   "outputs": [],
   "source": [
    "%run DreamNotation.ipynb"
   ]
  },
  {
   "cell_type": "code",
   "execution_count": 2,
   "metadata": {},
   "outputs": [],
   "source": [
    "# Convex quadrilateral ABCD has angle ABC = angle CDA=90. \n",
    "# Point H is the foot of the perpendicular from A to BD. \n",
    "# Points S and T lie on sides AB and AD, respectively, such that H lies inside triangle SCT\n",
    "# and:\n",
    "# angle CHS - angle CSB = 90\n",
    "# angle THC - angle DTC  = 90\n",
    "# Prove that line BD is tangent to the circumcircle of triangle TSH."
   ]
  },
  {
   "cell_type": "code",
   "execution_count": 3,
   "metadata": {},
   "outputs": [],
   "source": [
    "#Declarations\n",
    "A = GeometricWorld.point(\"A\")\n",
    "B = GeometricWorld.point(\"B\")\n",
    "C = GeometricWorld.point(\"C\")\n",
    "D = GeometricWorld.point(\"D\")\n",
    "\n",
    "H = GeometricWorld.point(\"H\")\n",
    "\n",
    "S = GeometricWorld.point(\"S\")\n",
    "T = GeometricWorld.point(\"T\")\n",
    "\n",
    "BD = GeometricWorld.line([B,D], \"BD\")\n",
    "AB = GeometricWorld.line([A,B], \"AB\")\n",
    "AD = GeometricWorld.line([A,D], \"AD\")\n",
    "\n",
    "O = GeometricWorld.point(\"O\")\n",
    "# This kind of hints that radius and distance are different, they're not\n",
    "# Maybe do a better way\n",
    "r = GeometricWorld.newRadius(\"r\")\n",
    "d1 = GeometricWorld.newDistance(\"d1\")\n",
    "d2 = GeometricWorld.newDistance(\"d2\")\n",
    "d3 = GeometricWorld.newDistance(\"d3\")\n",
    "\n",
    "ABCD = GeometricWorld.quadrilateral(A, B, C, D, \"ABCD\")\n",
    "SCT = GeometricWorld.triangle(S, C, T, \"SCT\")\n",
    "TSH = GeometricWorld.triangle(T, S, H, \"TSH\")\n",
    "\n",
    "ABC = GeometricWorld.angle(A, B, C, \"ABC\")\n",
    "CDA = GeometricWorld.angle(C, D, A, \"CDA\")\n",
    "\n",
    "CHS = GeometricWorld.angle(C, H, S, \"CHS\")\n",
    "CSB = GeometricWorld.angle(C, S, B, \"CSB\")\n",
    "\n",
    "THC = GeometricWorld.angle(T, H, C, \"THC\")\n",
    "DTC = GeometricWorld.angle(D, T, C, \"DTC\")\n",
    "\n",
    "TSH_circumcircle = GeometricWorld.circle(O, r, \"TSH_circumcircle\")\n",
    "#TSH_circumcircle.getRadius (maybe this can exist with some more class structure)"
   ]
  },
  {
   "cell_type": "code",
   "execution_count": null,
   "metadata": {},
   "outputs": [],
   "source": [
    "#Conditions\n",
    "BD.isTangent(H, TSH_circumcircle) <= (ABC.isRightAngle()\n",
    "                                      +CDA.isRightAngle()\n",
    "                                      +BD.perpendicularFoot(H, A)\n",
    "                                      +AB.collinear(S)\n",
    "                                      +AD.collinear(T)\n",
    "                                      +SCT.nondegenerate()\n",
    "                                      +complementaryAngles(CHS, CSB)\n",
    "                                      +complementaryAngles(THC, DTC)\n",
    "                                      +SCT.inTriangle(H)\n",
    "                                      +TSH.circumradius(d1, d2, d3, r)\n",
    "                                      +TSH.circumcentre(O))\n",
    "\n"
   ]
  }
 ],
 "metadata": {
  "kernelspec": {
   "display_name": "SageMath 9.1",
   "language": "sage",
   "name": "sagemath"
  },
  "language_info": {
   "codemirror_mode": {
    "name": "ipython",
    "version": 3
   },
   "file_extension": ".py",
   "mimetype": "text/x-python",
   "name": "python",
   "nbconvert_exporter": "python",
   "pygments_lexer": "ipython3",
   "version": "3.7.3"
  }
 },
 "nbformat": 4,
 "nbformat_minor": 2
}
