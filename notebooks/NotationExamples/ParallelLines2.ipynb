{
 "cells": [
  {
   "cell_type": "code",
   "execution_count": 1,
   "metadata": {},
   "outputs": [],
   "source": [
    "%run DreamNotation.ipynb"
   ]
  },
  {
   "cell_type": "code",
   "execution_count": 2,
   "metadata": {},
   "outputs": [],
   "source": [
    "A = GeometricWorld.point(\"A\")\n",
    "B = GeometricWorld.point(\"B\")\n",
    "C = GeometricWorld.point(\"C\")\n",
    "D = GeometricWorld.point(\"D\")\n",
    "P = GeometricWorld.point(\"P\")\n",
    "\n",
    "angleBAC = GeometricWorld.angle(B, A, C, \"BAC\")\n",
    "angleDCP = GeometricWorld.angle(D, C, P, \"DCP\")\n",
    "anglePAB = GeometricWorld.angle(P, A, B, \"PAB\")\n",
    "anglePCD = GeometricWorld.angle(P, C, D, \"PCD\")\n",
    "\n",
    "BAC = GeometricWorld.triangle(B, A, C, \"BAC\")\n",
    "PAB = GeometricWorld.triangle(P, A, B, \"PAB\")\n",
    "PCD = GeometricWorld.triangle(P, C, D, \"PCD\")"
   ]
  },
  {
   "cell_type": "code",
   "execution_count": 3,
   "metadata": {},
   "outputs": [
    {
     "data": {
      "text/plain": [
       "False"
      ]
     },
     "execution_count": 3,
     "metadata": {},
     "output_type": "execute_result"
    }
   ],
   "source": [
    "#\n",
    "r = GeometricWorld.getRing();\n",
    "conditions = (  collinear(P, A, C)\n",
    "              + anglePAB.tangent()\n",
    "              + anglePCD.tangent()\n",
    "              + anglePAB.isEqual(anglePCD)\n",
    "              + PAB.nondegenerate()\n",
    "              + PCD.nondegenerate())\n",
    "parallel(A, B, C, D)^2 <= conditions\n"
   ]
  },
  {
   "cell_type": "code",
   "execution_count": 4,
   "metadata": {},
   "outputs": [
    {
     "data": {
      "text/plain": [
       "True"
      ]
     },
     "execution_count": 4,
     "metadata": {},
     "output_type": "execute_result"
    }
   ],
   "source": [
    "# Corresponding angles are equal (F Angle)\n",
    "\n",
    "r = GeometricWorld.getRing();\n",
    "conditions = (  collinear(P, A, C)\n",
    "              + anglePAB.tangent()\n",
    "              + anglePCD.tangent()\n",
    "              + parallel(A, B, C, D)\n",
    "              + PAB.nondegenerate()\n",
    "              + PCD.nondegenerate())\n",
    "anglePAB.isEqual(anglePCD) <= conditions"
   ]
  },
  {
   "cell_type": "code",
   "execution_count": 5,
   "metadata": {},
   "outputs": [
    {
     "data": {
      "text/plain": [
       "True"
      ]
     },
     "execution_count": 5,
     "metadata": {},
     "output_type": "execute_result"
    }
   ],
   "source": [
    "# Alternate interior angles are equal (Z  Angle)\n",
    "\n",
    "r = GeometricWorld.getRing();\n",
    "conditions = (  collinear(P, A, C)\n",
    "              + angleBAC.tangent()\n",
    "              + angleDCP.tangent()\n",
    "              + parallel(A, B, C, D)\n",
    "              + BAC.nondegenerate()\n",
    "              + PCD.nondegenerate())\n",
    "\n",
    "angleBAC.isEqual(angleDCP) <= conditions"
   ]
  },
  {
   "cell_type": "code",
   "execution_count": 6,
   "metadata": {},
   "outputs": [
    {
     "data": {
      "text/plain": [
       "True"
      ]
     },
     "execution_count": 6,
     "metadata": {},
     "output_type": "execute_result"
    }
   ],
   "source": [
    "# Co-Interior angles are supplementary (C Angle)\n",
    "\n",
    "r = GeometricWorld.getRing();\n",
    "conditions = (  collinear(P, A, C)\n",
    "              + anglePCD.tangent()\n",
    "              + angleBAC.tangent()\n",
    "              + parallel(A, B, C, D)\n",
    "              + BAC.nondegenerate()\n",
    "              + PCD.nondegenerate())\n",
    "\n",
    "supplementaryAngles(angleBAC, anglePCD) <= conditions"
   ]
  },
  {
   "cell_type": "code",
   "execution_count": null,
   "metadata": {},
   "outputs": [],
   "source": []
  }
 ],
 "metadata": {
  "kernelspec": {
   "display_name": "SageMath 9.0",
   "language": "sage",
   "name": "sagemath"
  },
  "language_info": {
   "codemirror_mode": {
    "name": "ipython",
    "version": 3
   },
   "file_extension": ".py",
   "mimetype": "text/x-python",
   "name": "python",
   "nbconvert_exporter": "python",
   "pygments_lexer": "ipython3",
   "version": "3.7.3"
  }
 },
 "nbformat": 4,
 "nbformat_minor": 2
}
