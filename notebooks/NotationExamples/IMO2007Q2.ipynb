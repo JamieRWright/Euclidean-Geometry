{
 "cells": [
  {
   "cell_type": "code",
   "execution_count": 1,
   "metadata": {},
   "outputs": [],
   "source": [
    "%run DreamNotation.ipynb"
   ]
  },
  {
   "cell_type": "code",
   "execution_count": 2,
   "metadata": {},
   "outputs": [],
   "source": [
    "# Consider five points A,B,C,D and E such that ABCD is a parallelogram and BCED is a cyclic quadrilateral\n",
    "# Let L be a line passing through A\n",
    "# Suppose that L intersects the interior of the segment DC at F and intersects line BC at G\n",
    "# Suppose also that EF=EG=EC\n",
    "# Prove that L is the bisector of angle DAB"
   ]
  },
  {
   "cell_type": "code",
   "execution_count": 3,
   "metadata": {},
   "outputs": [],
   "source": [
    "#Declarations\n",
    "A = GeometricWorld.point(\"A\")\n",
    "B = GeometricWorld.point(\"B\")\n",
    "C = GeometricWorld.point(\"C\")\n",
    "D = GeometricWorld.point(\"D\")\n",
    "E = GeometricWorld.point(\"E\")\n",
    "\n",
    "F = GeometricWorld.point(\"F\")\n",
    "G = GeometricWorld.point(\"G\")\n",
    "\n",
    "d = GeometricWorld.newDistance(\"d\") # common length EF=EG=EC\n",
    "\n",
    "ABCD = GeometricWorld.quadrilateral(A, B, C, D, \"ABCD\")\n",
    "BCED = GeometricWorld.quadrilateral(B, C, E, D, \"BCED\")\n",
    "\n",
    "DAF = GeometricWorld.angle(D, A, F, \"DAF\")\n",
    "FAB = GeometricWorld.angle(F, A, B, \"FAB\")\n",
    "CGF = GeometricWorld.angle(C, G, F, \"CGF\")\n",
    "BAF = GeometricWorld.angle(B, A, F, \"BAF\")\n",
    "CFG = GeometricWorld.angle(C, F, G, \"CFG\")\n",
    "\n",
    "T1 = GeometricWorld.triangle(A,B,C)\n",
    "T2 = GeometricWorld.triangle(C,E,F)\n",
    "T3 = GeometricWorld.triangle(D,E,C)\n",
    "T4 = GeometricWorld.triangle(F,C,G)"
   ]
  },
  {
   "cell_type": "code",
   "execution_count": 4,
   "metadata": {},
   "outputs": [
    {
     "data": {
      "text/plain": [
       "Ideal (tan_FAB - tan_DAF) of Multivariate Polynomial Ring in G_x, T4_area_inv, D_x, tan_CFG, C_x, T3_area_inv, B_y, tan_BAF, A_y, tan_CGF, B_x, D_y, E_x, F_x, G_y, T1_area_inv, d, C_y, tan_FAB, F_y, A_x, tan_DAF, T2_area_inv, E_y over Rational Field"
      ]
     },
     "execution_count": 4,
     "metadata": {},
     "output_type": "execute_result"
    }
   ],
   "source": [
    "r = GeometricWorld.getRing()\n",
    "FAB.isEqual(DAF)"
   ]
  },
  {
   "cell_type": "code",
   "execution_count": 8,
   "metadata": {},
   "outputs": [
    {
     "data": {
      "text/plain": [
       "True"
      ]
     },
     "execution_count": 8,
     "metadata": {},
     "output_type": "execute_result"
    }
   ],
   "source": [
    "#Conditions\n",
    "r = GeometricWorld.getRing()\n",
    "CFG.isEqual(BAF) <= (ABCD.isParallelogram()\n",
    "                     + BCED.isCyclic()\n",
    "                     + collinear(D,F,C)\n",
    "                     + collinear(B,C,G)\n",
    "                     + collinear(A,F,G)\n",
    "                     + CFG.tangent()\n",
    "                     + BAF.tangent()\n",
    "                     + isDistance(d, E, F)\n",
    "                     + isDistance(d, E, G)\n",
    "                     + isDistance(d, E, C)\n",
    "                     + T1.nondegenerate()\n",
    "                     + T2.nondegenerate()\n",
    "                     + T3.nondegenerate())\n"
   ]
  },
  {
   "cell_type": "code",
   "execution_count": 10,
   "metadata": {},
   "outputs": [
    {
     "data": {
      "text/plain": [
       "True"
      ]
     },
     "execution_count": 10,
     "metadata": {},
     "output_type": "execute_result"
    }
   ],
   "source": [
    "#Conditions\n",
    "r = GeometricWorld.getRing()\n",
    "CGF.isEqual(DAF) <= (ABCD.isParallelogram()\n",
    "                     + BCED.isCyclic()\n",
    "                     + collinear(D,F,C)\n",
    "                     + collinear(B,C,G)\n",
    "                     + collinear(A,F,G)\n",
    "                     + DAF.tangent()\n",
    "                     + CGF.tangent()\n",
    "                     + isDistance(d, E, F)\n",
    "                     + isDistance(d, E, G)\n",
    "                     + isDistance(d, E, C)\n",
    "                     + T1.nondegenerate()\n",
    "                     + T2.nondegenerate()\n",
    "                     + T3.nondegenerate())"
   ]
  },
  {
   "cell_type": "code",
   "execution_count": 11,
   "metadata": {},
   "outputs": [
    {
     "data": {
      "text/plain": [
       "False"
      ]
     },
     "execution_count": 11,
     "metadata": {},
     "output_type": "execute_result"
    }
   ],
   "source": [
    "#Conditions\n",
    "r = GeometricWorld.getRing()\n",
    "# Since DAF = CGF and BAF = CFG\n",
    "# We can just show CF = CG\n",
    "condition = squareDistance(C,F) - squareDistance(C,G)\n",
    "r.ideal([condition]) <= (ABCD.isParallelogram()\n",
    "                     + BCED.isCyclic()\n",
    "                     + collinear(D,F,C)\n",
    "                     + collinear(B,C,G)\n",
    "                     + collinear(A,F,G)\n",
    "                     # Doesn't need these conditions?\n",
    "                     + CFG.tangent()\n",
    "                     + BAF.tangent()\n",
    "                     + DAF.tangent()\n",
    "                     + CGF.tangent()\n",
    "                     ##\n",
    "                     + isDistance(d, E, F)\n",
    "                     + isDistance(d, E, G)\n",
    "                     + isDistance(d, E, C)\n",
    "                     + T1.nondegenerate()\n",
    "                     + T2.nondegenerate()\n",
    "                     + T3.nondegenerate()\n",
    "                     + T4.nondegenerate())"
   ]
  },
  {
   "cell_type": "code",
   "execution_count": 6,
   "metadata": {},
   "outputs": [
    {
     "data": {
      "text/plain": [
       "False"
      ]
     },
     "execution_count": 6,
     "metadata": {},
     "output_type": "execute_result"
    }
   ],
   "source": [
    "FAB.isEqual(DAF) <= (ABCD.isParallelogram()\n",
    "                     + BCED.isCyclic()\n",
    "                     + collinear(D,F,C)\n",
    "                     + collinear(B,C,G)\n",
    "                     + collinear(A,F,G)\n",
    "                     + FAB.tangent()\n",
    "                     + DAF.tangent()\n",
    "                     + isDistance(d, E, F)\n",
    "                     + isDistance(d, E, G)\n",
    "                     + isDistance(d, E, C)\n",
    "                     + T1.nondegenerate()\n",
    "                     + T2.nondegenerate()\n",
    "                     + T3.nondegenerate()\n",
    "                     + T4.nondegenerate())"
   ]
  },
  {
   "cell_type": "code",
   "execution_count": 7,
   "metadata": {},
   "outputs": [
    {
     "data": {
      "text/plain": [
       "False"
      ]
     },
     "execution_count": 7,
     "metadata": {},
     "output_type": "execute_result"
    }
   ],
   "source": [
    "#Conditions\n",
    "d1 = GeometricWorld.newDistance(\"d1\")\n",
    "r = GeometricWorld.getRing()\n",
    "condition = isDistance(d1, C, F) + isDistance(d1, C, G)\n",
    "condition <= (ABCD.isParallelogram()\n",
    "                     + BCED.isCyclic()\n",
    "                     + collinear(D,F,C)\n",
    "                     + collinear(B,C,G)\n",
    "                     + collinear(A,F,G)\n",
    "                     #+ CFG.tangent()\n",
    "                     #+ BAF.tangent()\n",
    "                     #+ DAF.tangent()\n",
    "                     #+ CGF.tangent()\n",
    "                     + isDistance(d, E, F)\n",
    "                     + isDistance(d, E, G)\n",
    "                     + isDistance(d, E, C)\n",
    "                     + T1.nondegenerate()\n",
    "                     + T2.nondegenerate()\n",
    "                     + T3.nondegenerate()\n",
    "                     + T4.nondegenerate())"
   ]
  }
 ],
 "metadata": {
  "kernelspec": {
   "display_name": "SageMath 9.0",
   "language": "sage",
   "name": "sagemath"
  },
  "language_info": {
   "codemirror_mode": {
    "name": "ipython",
    "version": 3
   },
   "file_extension": ".py",
   "mimetype": "text/x-python",
   "name": "python",
   "nbconvert_exporter": "python",
   "pygments_lexer": "ipython3",
   "version": "3.7.3"
  }
 },
 "nbformat": 4,
 "nbformat_minor": 2
}
