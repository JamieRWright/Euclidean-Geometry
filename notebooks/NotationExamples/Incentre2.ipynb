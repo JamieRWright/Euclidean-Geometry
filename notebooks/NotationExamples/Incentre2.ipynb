{
 "cells": [
  {
   "cell_type": "code",
   "execution_count": 14,
   "metadata": {},
   "outputs": [],
   "source": [
    "%run DreamNotation.ipynb"
   ]
  },
  {
   "cell_type": "code",
   "execution_count": 15,
   "metadata": {},
   "outputs": [],
   "source": [
    "I = GeometricWorld.point(\"I\")\n",
    "A = GeometricWorld.point(\"A\")\n",
    "B = GeometricWorld.point(\"B\")\n",
    "C = GeometricWorld.point(\"C\")\n",
    "\n",
    "R = GeometricWorld.newDistance(\"R\")\n",
    "inR = GeometricWorld.newDistance(\"inR\")\n",
    "ia = GeometricWorld.newDistance(\"ia\")\n",
    "ib = GeometricWorld.newDistance(\"ib\")\n",
    "ic = GeometricWorld.newDistance(\"ic\")\n",
    "\n",
    "ABC = GeometricWorld.triangle(A, B, C, \"ABC\")\n",
    "ABC.makeEdges()"
   ]
  },
  {
   "cell_type": "code",
   "execution_count": 16,
   "metadata": {},
   "outputs": [
    {
     "data": {
      "text/plain": [
       "False"
      ]
     },
     "execution_count": 16,
     "metadata": {},
     "output_type": "execute_result"
    }
   ],
   "source": [
    "ring = GeometricWorld.getRing()\n",
    "conditions = (ABC.incentre(I) \n",
    "             + isDistance(ia, I, A)\n",
    "             + isDistance(ib, I, B)\n",
    "             + isDistance(ic, I, C)\n",
    "             + ABC.circumradius(R)\n",
    "             + ABC.inradius(inR))\n",
    "goal = ring.ideal([ring(ia) * ring(ib) * ring(ic) - 4*ring(R)*ring(inR)])\n",
    "\n",
    "goal <= conditions"
   ]
  },
  {
   "cell_type": "code",
   "execution_count": null,
   "metadata": {},
   "outputs": [],
   "source": []
  }
 ],
 "metadata": {
  "kernelspec": {
   "display_name": "SageMath 9.0",
   "language": "sage",
   "name": "sagemath"
  },
  "language_info": {
   "codemirror_mode": {
    "name": "ipython",
    "version": 3
   },
   "file_extension": ".py",
   "mimetype": "text/x-python",
   "name": "python",
   "nbconvert_exporter": "python",
   "pygments_lexer": "ipython3",
   "version": "3.7.3"
  }
 },
 "nbformat": 4,
 "nbformat_minor": 2
}
