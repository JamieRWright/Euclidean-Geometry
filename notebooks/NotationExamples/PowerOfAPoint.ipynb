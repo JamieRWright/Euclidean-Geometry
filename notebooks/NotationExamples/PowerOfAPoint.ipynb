{
 "cells": [
  {
   "cell_type": "code",
   "execution_count": 1,
   "metadata": {},
   "outputs": [],
   "source": [
    "%run DreamNotation.ipynb"
   ]
  },
  {
   "cell_type": "code",
   "execution_count": 2,
   "metadata": {},
   "outputs": [],
   "source": [
    "#Declare Points\n",
    "A = GeometricWorld.point(\"A\")\n",
    "B = GeometricWorld.point(\"B\")\n",
    "C = GeometricWorld.point(\"C\")\n",
    "D = GeometricWorld.point(\"D\")\n",
    "P = GeometricWorld.point(\"P\")\n",
    "O = GeometricWorld.point(\"O\")\n",
    "\n",
    "rad = GeometricWorld.new_variable(\"r\")\n",
    "\n",
    "\n",
    "Circle1 = GeometricWorld.circle(O, rad, \"Circle1\")"
   ]
  },
  {
   "cell_type": "code",
   "execution_count": 3,
   "metadata": {},
   "outputs": [
    {
     "data": {
      "text/plain": [
       "True"
      ]
     },
     "execution_count": 3,
     "metadata": {},
     "output_type": "execute_result"
    }
   ],
   "source": [
    "#Power Of a Point\n",
    "goal = squareDistance(P,A)*squareDistance(P,B) - squareDistance(P,C)*squareDistance(P,D)\n",
    "\n",
    "\n",
    "goal <= (powerOfPointCondition(Circle1, A, B, C, D))"
   ]
  },
  {
   "cell_type": "code",
   "execution_count": null,
   "metadata": {},
   "outputs": [],
   "source": []
  }
 ],
 "metadata": {
  "kernelspec": {
   "display_name": "SageMath 9.0",
   "language": "sage",
   "name": "sagemath"
  },
  "language_info": {
   "codemirror_mode": {
    "name": "ipython",
    "version": 3
   },
   "file_extension": ".py",
   "mimetype": "text/x-python",
   "name": "python",
   "nbconvert_exporter": "python",
   "pygments_lexer": "ipython3",
   "version": "3.7.3"
  }
 },
 "nbformat": 4,
 "nbformat_minor": 2
}
