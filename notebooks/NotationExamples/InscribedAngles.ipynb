{
 "cells": [
  {
   "cell_type": "code",
   "execution_count": 12,
   "metadata": {},
   "outputs": [],
   "source": [
    "%run DreamNotation.ipynb"
   ]
  },
  {
   "cell_type": "code",
   "execution_count": 14,
   "metadata": {},
   "outputs": [],
   "source": [
    "A = GeometricWorld.point(\"A\")\n",
    "B = GeometricWorld.point(\"B\")\n",
    "C = GeometricWorld.point(\"C\")\n",
    "O = GeometricWorld.point(\"O\")\n",
    "\n",
    "angleABC = GeometricWorld.angle(A, B, C, \"ABC\")\n",
    "angleAOC = GeometricWorld.angle(A, O, C, \"AOC\")\n",
    "\n",
    "ABC = GeometricWorld.triangle(A, B, C, \"ABC\")\n",
    "AOC = GeometricWorld.triangle(A, O, C, \"AOC\")\n",
    "\n",
    "\n",
    "r = GeometricWorld.new_variable(\"r\")\n",
    "\n",
    "Circle = GeometricWorld.circle(O, r, \"C1\")\n"
   ]
  },
  {
   "cell_type": "code",
   "execution_count": 15,
   "metadata": {},
   "outputs": [
    {
     "data": {
      "text/plain": [
       "False"
      ]
     },
     "execution_count": 15,
     "metadata": {},
     "output_type": "execute_result"
    }
   ],
   "source": [
    "ring = GeometricWorld.getRing()\n",
    "conditions = (Circle.onCircle(A)\n",
    "                + Circle.onCircle(B)\n",
    "                + Circle.onCircle(C)\n",
    "                + ABC.nondegenerate()\n",
    "                + AOC.nondegenerate()\n",
    "                + angleABC.tangent()\n",
    "                + angleAOC.tangent())\n",
    "goal = ring.ideal([2*ring(angleABC.tan) - ring(angleAOC.tan)])\n",
    "\n",
    "goal <= conditions\n",
    "\n",
    "\n"
   ]
  },
  {
   "cell_type": "code",
   "execution_count": null,
   "metadata": {},
   "outputs": [],
   "source": [
    "                + Circle.onCircle(D)\n",
    "                + ABC.nondegenerate()\n",
    "                + ADC.nondegenerate()\n",
    "                + BDC.nondegenerate()\n",
    "                + ABD.nondegenerate()\n",
    "ADC = GeometricWorld.triangle(A, D, C, \"ADC\")\n",
    "BDC = GeometricWorld.triangle(B, D, C, \"BDC\")\n",
    "ABD = GeometricWorld.triangle(A, B, D, \"ABD\")\n",
    "D = GeometricWorld.point(\"D\")"
   ]
  },
  {
   "cell_type": "code",
   "execution_count": null,
   "metadata": {},
   "outputs": [],
   "source": []
  },
  {
   "cell_type": "code",
   "execution_count": null,
   "metadata": {},
   "outputs": [],
   "source": []
  }
 ],
 "metadata": {
  "kernelspec": {
   "display_name": "SageMath 9.0",
   "language": "sage",
   "name": "sagemath"
  },
  "language_info": {
   "codemirror_mode": {
    "name": "ipython",
    "version": 3
   },
   "file_extension": ".py",
   "mimetype": "text/x-python",
   "name": "python",
   "nbconvert_exporter": "python",
   "pygments_lexer": "ipython3",
   "version": "3.7.3"
  }
 },
 "nbformat": 4,
 "nbformat_minor": 2
}
