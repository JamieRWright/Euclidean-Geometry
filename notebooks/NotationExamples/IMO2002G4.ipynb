{
 "cells": [
  {
   "cell_type": "code",
   "execution_count": 1,
   "metadata": {},
   "outputs": [],
   "source": [
    "%run DreamNotation.ipynb"
   ]
  },
  {
   "cell_type": "code",
   "execution_count": 2,
   "metadata": {},
   "outputs": [],
   "source": [
    "# Circles S_1 and S_2 intersect at points P and Q. \n",
    "# Distinct points A_1 and B_1 (not at P or Q) are selected on S_1.\n",
    "# The lines A_1P and B_1P meet S_2 again at A_2 and B_2 respectively, and the lines A_1B_1  and A_2B_2 meet at C. \n",
    "# Prove that, as A_1 and B_1 vary, the circumcenters of triangles A_1A_2C all lie on one fixed circle."
   ]
  },
  {
   "cell_type": "code",
   "execution_count": 3,
   "metadata": {},
   "outputs": [],
   "source": [
    "#Declarations\n",
    "A_1 = GeometricWorld.point(\"A_1\")\n",
    "A_2 = GeometricWorld.point(\"A_2\")\n",
    "B_1 = GeometricWorld.point(\"B_1\")\n",
    "B_2 = GeometricWorld.point(\"B_2\")\n",
    "C = GeometricWorld.point(\"C\")\n",
    "\n",
    "P = GeometricWorld.point(\"P\")\n",
    "Q = GeometricWorld.point(\"Q\")\n",
    "\n",
    "A_1P = GeometricWorld.line([A_1,P], \"A_1P\")\n",
    "A_1B_1 = GeometricWorld.line([A_1,B_1], \"A_1B_1\")\n",
    "\n",
    "A_2B_2 = GeometricWorld.line([A_2,B_2], \"B_2A_2\")\n",
    "\n",
    "B_1P = GeometricWorld.line([B_1,P], \"B_1P\")\n",
    "\n",
    "\n",
    "A_1A_2C = GeometricWorld.triangle(A_1, A_2, C, \"A_1A_2C\")\n",
    "O_1 = GeometricWorld.point(\"O_1\")\n",
    "O_2 = GeometricWorld.point(\"O_2\")\n",
    "\n",
    "r_1 = GeometricWorld.newRadius(\"r_1\")\n",
    "r_2 = GeometricWorld.newRadius(\"r_2\")\n",
    "\n",
    "S_1 = GeometricWorld.circle(O_1, r_1, \"S_1\")\n",
    "S_2 = GeometricWorld.circle(O_2, r_2, \"S_2\")\n",
    "\n",
    "CA_1Q = GeometricWorld.angle(C, A_1, Q, \"CA_1Q\") \n",
    "B_1A_1Q = GeometricWorld.angle(B_1, A_1, Q, \"B_1A_1Q\") \n",
    "\n"
   ]
  },
  {
   "cell_type": "code",
   "execution_count": 4,
   "metadata": {},
   "outputs": [
    {
     "data": {
      "text/plain": [
       "Ideal (A_2_y*C_x - A_2_x*C_y - A_2_y*B_2_x + C_y*B_2_x - C_x*B_2_y + A_2_x*B_2_y) of Multivariate Polynomial Ring in B_1_y, r_1, tan_B_1A_1Q, B_1_x, A_1A_2C_area_inv, A_2_y, tan_CA_1Q, O_2_x, C_x, A_2_x, C_y, B_2_x, O_1_y, P_x, Q_x, A_1_x, r_2, P_y, A_1_y, O_2_y, B_2_y, Q_y, O_1_x over Rational Field"
      ]
     },
     "execution_count": 4,
     "metadata": {},
     "output_type": "execute_result"
    }
   ],
   "source": [
    "S_1.circleIntersection(S_2, P, Q)\n",
    "S_1.onCircle(A_1)\n",
    "S_1.onCircle(B_1)\n",
    "A_1P.collinear(A_2)\n",
    "B_1P.collinear(B_2)\n",
    "S_2.onCircle(A_2)\n",
    "S_2.onCircle(B_2)\n",
    "A_1B_1.collinear(C)\n",
    "A_2B_2.collinear(C)"
   ]
  },
  {
   "cell_type": "code",
   "execution_count": null,
   "metadata": {},
   "outputs": [],
   "source": []
  },
  {
   "cell_type": "code",
   "execution_count": 5,
   "metadata": {},
   "outputs": [
    {
     "data": {
      "text/plain": [
       "Ideal (-B_1_y*C_x + B_1_x*C_y + B_1_y*A_1_x - C_y*A_1_x - B_1_x*A_1_y + C_x*A_1_y, -tan_CA_1Q*C_x*Q_x + tan_CA_1Q*C_x*A_1_x + tan_CA_1Q*Q_x*A_1_x - tan_CA_1Q*A_1_x^2 + tan_CA_1Q*C_y*A_1_y - tan_CA_1Q*A_1_y^2 - tan_CA_1Q*C_y*Q_y + tan_CA_1Q*A_1_y*Q_y + C_y*Q_x - C_y*A_1_x + C_x*A_1_y - Q_x*A_1_y - C_x*Q_y + A_1_x*Q_y, -tan_B_1A_1Q*B_1_x*Q_x + tan_B_1A_1Q*B_1_x*A_1_x + tan_B_1A_1Q*Q_x*A_1_x - tan_B_1A_1Q*A_1_x^2 + B_1_y*tan_B_1A_1Q*A_1_y - tan_B_1A_1Q*A_1_y^2 - B_1_y*tan_B_1A_1Q*Q_y + tan_B_1A_1Q*A_1_y*Q_y + B_1_y*Q_x - B_1_y*A_1_x + B_1_x*A_1_y - Q_x*A_1_y - B_1_x*Q_y + A_1_x*Q_y) of Multivariate Polynomial Ring in B_1_y, r_1, tan_B_1A_1Q, B_1_x, A_1A_2C_area_inv, A_2_y, tan_CA_1Q, O_2_x, C_x, A_2_x, C_y, B_2_x, O_1_y, P_x, Q_x, A_1_x, r_2, P_y, A_1_y, O_2_y, B_2_y, Q_y, O_1_x over Rational Field"
      ]
     },
     "execution_count": 5,
     "metadata": {},
     "output_type": "execute_result"
    }
   ],
   "source": [
    "(A_1B_1.collinear(C)+CA_1Q.tangent()+B_1A_1Q.tangent())"
   ]
  },
  {
   "cell_type": "code",
   "execution_count": null,
   "metadata": {},
   "outputs": [],
   "source": []
  },
  {
   "cell_type": "code",
   "execution_count": 6,
   "metadata": {},
   "outputs": [
    {
     "data": {
      "text/plain": [
       "Ideal (-tan_B_1A_1Q*B_1_x*Q_x + tan_B_1A_1Q*B_1_x*A_1_x + tan_B_1A_1Q*Q_x*A_1_x - tan_B_1A_1Q*A_1_x^2 + B_1_y*tan_B_1A_1Q*A_1_y - tan_B_1A_1Q*A_1_y^2 - B_1_y*tan_B_1A_1Q*Q_y + tan_B_1A_1Q*A_1_y*Q_y + B_1_y*Q_x - B_1_y*A_1_x + B_1_x*A_1_y - Q_x*A_1_y - B_1_x*Q_y + A_1_x*Q_y) of Multivariate Polynomial Ring in B_1_y, r_1, tan_B_1A_1Q, B_1_x, A_1A_2C_area_inv, A_2_y, tan_CA_1Q, O_2_x, C_x, A_2_x, C_y, B_2_x, O_1_y, P_x, Q_x, A_1_x, r_2, P_y, A_1_y, O_2_y, B_2_y, Q_y, O_1_x over Rational Field"
      ]
     },
     "execution_count": 6,
     "metadata": {},
     "output_type": "execute_result"
    }
   ],
   "source": [
    "B_1A_1Q.tangent()"
   ]
  },
  {
   "cell_type": "code",
   "execution_count": 7,
   "metadata": {},
   "outputs": [
    {
     "data": {
      "text/plain": [
       "Ideal (-tan_CA_1Q*C_x*Q_x + tan_CA_1Q*C_x*A_1_x + tan_CA_1Q*Q_x*A_1_x - tan_CA_1Q*A_1_x^2 + tan_CA_1Q*C_y*A_1_y - tan_CA_1Q*A_1_y^2 - tan_CA_1Q*C_y*Q_y + tan_CA_1Q*A_1_y*Q_y + C_y*Q_x - C_y*A_1_x + C_x*A_1_y - Q_x*A_1_y - C_x*Q_y + A_1_x*Q_y) of Multivariate Polynomial Ring in B_1_y, r_1, tan_B_1A_1Q, B_1_x, A_1A_2C_area_inv, A_2_y, tan_CA_1Q, O_2_x, C_x, A_2_x, C_y, B_2_x, O_1_y, P_x, Q_x, A_1_x, r_2, P_y, A_1_y, O_2_y, B_2_y, Q_y, O_1_x over Rational Field"
      ]
     },
     "execution_count": 7,
     "metadata": {},
     "output_type": "execute_result"
    }
   ],
   "source": [
    "CA_1Q.tangent()"
   ]
  },
  {
   "cell_type": "code",
   "execution_count": 9,
   "metadata": {},
   "outputs": [
    {
     "data": {
      "text/plain": [
       "False"
      ]
     },
     "execution_count": 9,
     "metadata": {},
     "output_type": "execute_result"
    }
   ],
   "source": [
    "r = GeometricWorld.getRing()\n",
    "CA_1Q.isEqual(B_1A_1Q) <= (A_1B_1.collinear(C)\n",
    "                           +CA_1Q.tangent()\n",
    "                           +B_1A_1Q.tangent())"
   ]
  },
  {
   "cell_type": "code",
   "execution_count": null,
   "metadata": {},
   "outputs": [],
   "source": []
  }
 ],
 "metadata": {
  "kernelspec": {
   "display_name": "SageMath 9.0",
   "language": "sage",
   "name": "sagemath"
  },
  "language_info": {
   "codemirror_mode": {
    "name": "ipython",
    "version": 3
   },
   "file_extension": ".py",
   "mimetype": "text/x-python",
   "name": "python",
   "nbconvert_exporter": "python",
   "pygments_lexer": "ipython3",
   "version": "3.7.3"
  }
 },
 "nbformat": 4,
 "nbformat_minor": 2
}
