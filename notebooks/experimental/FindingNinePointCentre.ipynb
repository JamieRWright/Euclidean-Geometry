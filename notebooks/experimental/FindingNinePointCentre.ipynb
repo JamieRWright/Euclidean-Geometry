{
 "cells": [
  {
   "cell_type": "code",
   "execution_count": 1,
   "metadata": {},
   "outputs": [],
   "source": [
    "R.<xH,yH,xO,yO,xN,yN,xA,yA,xB,yB,xC,yC> = PolynomialRing(QQ, 12, order=\"lex\")\n",
    "A = (xA,yA)\n",
    "B = (xB,yB)\n",
    "C = (xC,yC)\n",
    "H = (xH,yH)\n",
    "O = (xO,yO)\n",
    "N = (xN,yN)\n",
    "\n",
    "I = R.ideal([# N is the midpoint of OH\n",
    "             2*xN-xH-xO,\n",
    "             2*yN-yH-yO,\n",
    "             # H is the orthocentre of ABC\n",
    "             -xA*xC + xB*xC - yA*yC + yB*yC + xA*xH - xB*xH + yA*yH - yB*yH,\n",
    "             -xA*xB - yA*yB + xB*xC + yB*yC + xA*xH - xC*xH + yA*yH - yC*yH,\n",
    "             # O is the orthocentre of ABC\n",
    "             xA^2 + yA^2 - xB^2 - yB^2 - 2*xA*xO + 2*xB*xO - 2*yA*yO + 2*yB*yO,\n",
    "             xB^2 + yB^2 - xC^2 - yC^2 - 2*xB*xO + 2*xC*xO - 2*yB*yO + 2*yC*yO])"
   ]
  },
  {
   "cell_type": "code",
   "execution_count": 2,
   "metadata": {},
   "outputs": [
    {
     "data": {
      "text/plain": [
       "False"
      ]
     },
     "execution_count": 2,
     "metadata": {},
     "output_type": "execute_result"
    }
   ],
   "source": [
    "# The monomial ordering we've chosen has the property that it will try to get rid of xH, yH, xO, yO as\n",
    "# much as it can. That means that if there are polynomial relations between xN, yN, xA, yA, xB, yB, xC,\n",
    "# yC, it will find them.\n",
    "b = I.groebner_basis()\n",
    "\n",
    "# These are the ones that don't mention H or O, and by the Grobner basis condition, they generate all\n",
    "# the relations between A, B, C and N.\n",
    "[p*4 for p in b[12:16]]\n",
    "\n",
    "R.ideal([2*xN-xH-xO, 2*yN-yH-yO]) <= R.ideal(b[12:16])\n",
    "\n"
   ]
  },
  {
   "cell_type": "code",
   "execution_count": 3,
   "metadata": {},
   "outputs": [
    {
     "data": {
      "text/plain": [
       "True"
      ]
     },
     "execution_count": 3,
     "metadata": {},
     "output_type": "execute_result"
    }
   ],
   "source": [
    "%run Functions.ipynb\n",
    "\n",
    "R.<xH,yH,xO,yO,xG,yG,xN,yN,xA,yA,xB,yB,xC,yC, area1> = PolynomialRing(QQ, 15)\n",
    "ideals = GeometricContext(R)\n",
    "A = (xA, yA)\n",
    "B = (xB, yB)\n",
    "C = (xC, yC)\n",
    "\n",
    "H = (xH,yH)\n",
    "O = (xO,yO)\n",
    "G = (xG,yG)\n",
    "N = (xN,yN)\n",
    "ideals.midpoint(N, O, H) <= (ideals.ninePointCentre(N,A,B,C) \n",
    "                             + ideals.triangleNondegenerate(A, B, C, area1)\n",
    "                             + ideals.orthocentre(H, A, B, C)\n",
    "                             + ideals.circumcentre(O, A, B, C)\n",
    "                             + ideals.centroid(G, A, B, C))"
   ]
  },
  {
   "cell_type": "markdown",
   "metadata": {},
   "source": []
  },
  {
   "cell_type": "code",
   "execution_count": null,
   "metadata": {},
   "outputs": [],
   "source": []
  }
 ],
 "metadata": {
  "kernelspec": {
   "display_name": "SageMath 9.0",
   "language": "sage",
   "name": "sagemath"
  },
  "language_info": {
   "codemirror_mode": {
    "name": "ipython",
    "version": 3
   },
   "file_extension": ".py",
   "mimetype": "text/x-python",
   "name": "python",
   "nbconvert_exporter": "python",
   "pygments_lexer": "ipython3",
   "version": "3.7.3"
  }
 },
 "nbformat": 4,
 "nbformat_minor": 2
}
