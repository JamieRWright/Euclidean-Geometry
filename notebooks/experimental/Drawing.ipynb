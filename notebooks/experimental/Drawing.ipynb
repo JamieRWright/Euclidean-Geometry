{
 "cells": [
  {
   "cell_type": "code",
   "execution_count": 1,
   "metadata": {},
   "outputs": [],
   "source": [
    "%run ../NotationExamples/DreamNotation.ipynb\n",
    "\n",
    "\"\"\"\n",
    "Beginnings of some code outputting javascript, for drawing diagrams in HTML5. Untested as yet.\n",
    "\"\"\"\n",
    "\n",
    "import sys\n",
    "set_verbose(-1) # stop SAGE whinging about how slow it is\n",
    "\n",
    "\n",
    "def realise(I):\n",
    "    return I.change_ring(GeometricWorld.getRing(coefficients=RR))\n",
    "\n",
    "#Added another shape to draw\n",
    "def draw_html5js(file, canvasid, size, variables, to_draw):\n",
    "    \n",
    "    (width, height) = size\n",
    "    \n",
    "    print(f'var canvas = document.getElementById(\"{canvasid}\");', file=file)\n",
    "    print(f'canvas.width = {width};', file=file)\n",
    "    print(f'canvas.height = {height};', file=file)\n",
    "    print('var ctx = canvas.getContext(\"2d\");', file=file)\n",
    "\n",
    "    def inner(shape, data, style):\n",
    "        print(f'ctx.beginPath(); ctx.strokeStyle = \"{style or \"#000000\"}\";', file=file)\n",
    "        if shape == \"circle\":\n",
    "            r = data.radius\n",
    "            O = data.centre\n",
    "            print(f'ctx.arc({variables[O.x]}, {variables[O.y]}, {variables[r]}, 0, 2 * Math.PI);', file=file)\n",
    "        elif shape == \"segment\":\n",
    "            (P,Q) = data\n",
    "            print(f'ctx.moveTo({variables[P.x]}, {variables[P.y]}); ctx.lineTo({variables[Q.x]}, {variables[Q.y]});', file=file)\n",
    "        elif shape == \"line\":\n",
    "            (P,Q) = data\n",
    "            raise ValueError(\"Can't draw lines yet :-(\")\n",
    "        print(f'ctx.stroke();', file=file)\n",
    "\n",
    "    for (shape, data, style) in to_draw:\n",
    "        inner(shape, data, style)\n",
    "            "
   ]
  },
  {
   "cell_type": "code",
   "execution_count": 2,
   "metadata": {},
   "outputs": [],
   "source": [
    "# starting triangle\n",
    "A = GeometricWorld.point(\"A\")\n",
    "B = GeometricWorld.point(\"B\")\n",
    "C = GeometricWorld.point(\"C\")\n",
    "\n",
    "# medians\n",
    "D = GeometricWorld.point(\"D\")\n",
    "E = GeometricWorld.point(\"E\")\n",
    "F = GeometricWorld.point(\"F\")\n",
    "\n",
    "# circumcircle\n",
    "d = GeometricWorld.newRadius(\"d\")\n",
    "O = GeometricWorld.point(\"O\")\n",
    "Γ = GeometricWorld.circle(O, d)\n",
    "\n",
    "# altitudes\n",
    "A0 = GeometricWorld.point(\"A0\")\n",
    "B0 = GeometricWorld.point(\"B0\")\n",
    "C0 = GeometricWorld.point(\"C0\")\n",
    "\n",
    "# orthocentre\n",
    "H = GeometricWorld.point(\"H\")\n",
    "\n",
    "I = (isMidpoint(D,B,C) + isMidpoint(E,C,A) + isMidpoint(F,A,B)\n",
    "     + Γ.onCircle(A) + Γ.onCircle(B) + Γ.onCircle(C)\n",
    "     + perpendicularFoot(A0, A, B, C) + perpendicularFoot(B0, B, C, A) + perpendicularFoot(C0, C, A, B)\n",
    "     + orthocentre(H, A, B, C))"
   ]
  },
  {
   "cell_type": "code",
   "execution_count": 3,
   "metadata": {},
   "outputs": [
    {
     "data": {
      "text/plain": [
       "[{B0_y: 406.400000000000, d: 210.879112289482, A_y: 227.000000000000, O_x: 361.400000000000, H_y: 410.800000000000, H_x: 268.200000000000, C_x: 201.000000000000, F_x: 395.000000000000, C0_y: 295.400000000000, C0_x: 337.300000000000, B0_x: 209.700000000000, B_x: 567.000000000000, D_y: 478.000000000000, E_y: 375.000000000000, A0_y: 501.000000000000, F_y: 330.000000000000, B_y: 433.000000000000, C_y: 523.000000000000, E_x: 212.000000000000, O_y: 386.100000000000, A_x: 223.000000000000, A0_x: 290.400000000000, D_x: 384.000000000000},\n",
       " {B0_y: 406.400000000000, d: -210.879112289482, A_y: 227.000000000000, O_x: 361.400000000000, H_y: 410.800000000000, H_x: 268.200000000000, C_x: 201.000000000000, F_x: 395.000000000000, C0_y: 295.400000000000, C0_x: 337.300000000000, B0_x: 209.700000000000, B_x: 567.000000000000, D_y: 478.000000000000, E_y: 375.000000000000, A0_y: 501.000000000000, F_y: 330.000000000000, B_y: 433.000000000000, C_y: 523.000000000000, E_x: 212.000000000000, O_y: 386.100000000000, A_x: 223.000000000000, A0_x: 290.400000000000, D_x: 384.000000000000}]"
      ]
     },
     "execution_count": 3,
     "metadata": {},
     "output_type": "execute_result"
    }
   ],
   "source": [
    "J = realise(I) + A.fix(223.0, 227.0) + B.fix(567.0,433.0) + C.fix(201.0,523.0)\n",
    "J.variety()"
   ]
  },
  {
   "cell_type": "code",
   "execution_count": 4,
   "metadata": {},
   "outputs": [
    {
     "name": "stdout",
     "output_type": "stream",
     "text": [
      "var canvas = document.getElementById(\"mycanvas\");\n",
      "canvas.width = 800\n",
      "canvas.height = 600\n",
      "var ctx = canvas.getContext(\"2d\");\n",
      "ctx.beginPath(); ctx.strokeStyle = \"#000000\";\n",
      "ctx.moveTo(223.000000000000, 227.000000000000); ctx.lineTo(567.000000000000, 433.000000000000);\n",
      "ctx.stroke();\n",
      "ctx.beginPath(); ctx.strokeStyle = \"#000000\";\n",
      "ctx.moveTo(567.000000000000, 433.000000000000); ctx.lineTo(201.000000000000, 523.000000000000);\n",
      "ctx.stroke();\n",
      "ctx.beginPath(); ctx.strokeStyle = \"#000000\";\n",
      "ctx.moveTo(201.000000000000, 523.000000000000); ctx.lineTo(223.000000000000, 227.000000000000);\n",
      "ctx.stroke();\n",
      "ctx.beginPath(); ctx.strokeStyle = \"#00FF00\";\n",
      "ctx.moveTo(223.000000000000, 227.000000000000); ctx.lineTo(384.000000000000, 478.000000000000);\n",
      "ctx.stroke();\n",
      "ctx.beginPath(); ctx.strokeStyle = \"#00FF00\";\n",
      "ctx.moveTo(567.000000000000, 433.000000000000); ctx.lineTo(212.000000000000, 375.000000000000);\n",
      "ctx.stroke();\n",
      "ctx.beginPath(); ctx.strokeStyle = \"#00FF00\";\n",
      "ctx.moveTo(201.000000000000, 523.000000000000); ctx.lineTo(395.000000000000, 330.000000000000);\n",
      "ctx.stroke();\n",
      "ctx.beginPath(); ctx.strokeStyle = \"#00FFFF\";\n",
      "ctx.moveTo(223.000000000000, 227.000000000000); ctx.lineTo(290.400000000000, 501.000000000000);\n",
      "ctx.stroke();\n",
      "ctx.beginPath(); ctx.strokeStyle = \"#00FFFF\";\n",
      "ctx.moveTo(567.000000000000, 433.000000000000); ctx.lineTo(209.700000000000, 406.400000000000);\n",
      "ctx.stroke();\n",
      "ctx.beginPath(); ctx.strokeStyle = \"#00FFFF\";\n",
      "ctx.moveTo(201.000000000000, 523.000000000000); ctx.lineTo(337.300000000000, 295.400000000000);\n",
      "ctx.stroke();\n",
      "ctx.beginPath(); ctx.strokeStyle = \"#FF0000\";\n",
      "ctx.stroke();\n",
      "ctx.beginPath(); ctx.strokeStyle = \"#0000FF\";\n",
      "ctx.arc(361.400000000000, 386.100000000000, 210.879112289482, 0, 2 * Math.PI);\n",
      "ctx.stroke();\n"
     ]
    }
   ],
   "source": [
    "draw_html5js(sys.stdout, \"mycanvas\", (800,600), J.variety()[0],\n",
    "             [(\"segment\", (A,B), None),\n",
    "              (\"segment\", (B,C), None),\n",
    "              (\"segment\", (C,A), None),\n",
    "              (\"segment\", (A,D), \"#00FF00\"),\n",
    "              (\"segment\", (B,E), \"#00FF00\"),\n",
    "              (\"segment\", (C,F), \"#00FF00\"),\n",
    "              (\"segment\", (A,A0), \"#00FFFF\"),\n",
    "              (\"segment\", (B,B0), \"#00FFFF\"),\n",
    "              (\"segment\", (C,C0), \"#00FFFF\"),\n",
    "              (\"line\", (O,H), \"#FF0000\"),\n",
    "              (\"circle\", Γ, \"#0000FF\")])"
   ]
  },
  {
   "cell_type": "code",
   "execution_count": null,
   "metadata": {},
   "outputs": [],
   "source": []
  }
 ],
 "metadata": {
  "kernelspec": {
   "display_name": "SageMath 9.1",
   "language": "sage",
   "name": "sagemath"
  },
  "language_info": {
   "codemirror_mode": {
    "name": "ipython",
    "version": 3
   },
   "file_extension": ".py",
   "mimetype": "text/x-python",
   "name": "python",
   "nbconvert_exporter": "python",
   "pygments_lexer": "ipython3",
   "version": "3.7.3"
  }
 },
 "nbformat": 4,
 "nbformat_minor": 2
}
