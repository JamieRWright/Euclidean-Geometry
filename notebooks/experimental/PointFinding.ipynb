{
 "cells": [
  {
   "cell_type": "code",
   "execution_count": 1,
   "metadata": {},
   "outputs": [],
   "source": [
    "%run DreamNotation.ipynb\n",
    "\n",
    "A = GeometricWorld.point(\"A\")\n",
    "B = GeometricWorld.point(\"B\")\n",
    "C = GeometricWorld.point(\"C\")\n",
    "\n",
    "O = GeometricWorld.point(\"O\")\n",
    "H = GeometricWorld.point(\"H\")\n",
    "G = GeometricWorld.point(\"G\")\n",
    "\n",
    "T = GeometricWorld.triangle(A, B, C, \"T\")"
   ]
  },
  {
   "cell_type": "code",
   "execution_count": 2,
   "metadata": {},
   "outputs": [],
   "source": [
    "I = T.nondegenerate() + T.orthocentre(H) + T.circumcentre(O) + T.centroid(G)\n",
    "J = I.change_ring(GeometricWorld.getRing(coefficients=RR)) + A.fix(0.6, 0.4) + B.fix(4.3, 0.7) + C.fix(2.9, 2.1)"
   ]
  },
  {
   "cell_type": "code",
   "execution_count": 3,
   "metadata": {},
   "outputs": [
    {
     "data": {
      "text/plain": [
       "0"
      ]
     },
     "execution_count": 3,
     "metadata": {},
     "output_type": "execute_result"
    }
   ],
   "source": [
    "J.dimension()"
   ]
  },
  {
   "cell_type": "code",
   "execution_count": 6,
   "metadata": {},
   "outputs": [
    {
     "data": {
      "text/plain": [
       "6"
      ]
     },
     "execution_count": 6,
     "metadata": {},
     "output_type": "execute_result"
    }
   ],
   "source": [
    "I.dimension()"
   ]
  },
  {
   "cell_type": "code",
   "execution_count": 4,
   "metadata": {},
   "outputs": [
    {
     "data": {
      "text/plain": [
       "Multivariate Polynomial Ring in C_y, H_y, B_y, B_x, O_y, T_area_inv, A_x, H_x, G_x, O_x, A_y, G_y, C_x over Real Field with 53 bits of precision"
      ]
     },
     "execution_count": 4,
     "metadata": {},
     "output_type": "execute_result"
    }
   ],
   "source": [
    "J.ring()"
   ]
  },
  {
   "cell_type": "code",
   "execution_count": 5,
   "metadata": {},
   "outputs": [
    {
     "name": "stdout",
     "output_type": "stream",
     "text": [
      "verbose 0 (2270: multi_polynomial_ideal.py, variety) Warning: falling back to very slow toy implementation.\n"
     ]
    },
    {
     "data": {
      "text/plain": [
       "[{C_y: 2.10000000000000, H_y: 2.65500000000000, B_y: 0.700000000000000, B_x: 4.30000000000000, O_y: 0.272500000000000, T_area_inv: 0.357100000000000, A_x: 0.600000000000000, H_x: 2.85500000000000, G_x: 2.60000000000000, O_x: 2.47200000000000, A_y: 0.400000000000000, G_y: 1.06700000000000, C_x: 2.90000000000000}]"
      ]
     },
     "execution_count": 5,
     "metadata": {},
     "output_type": "execute_result"
    }
   ],
   "source": [
    "J.variety()"
   ]
  },
  {
   "cell_type": "code",
   "execution_count": null,
   "metadata": {},
   "outputs": [],
   "source": []
  }
 ],
 "metadata": {
  "kernelspec": {
   "display_name": "SageMath 9.1",
   "language": "sage",
   "name": "sagemath"
  },
  "language_info": {
   "codemirror_mode": {
    "name": "ipython",
    "version": 3
   },
   "file_extension": ".py",
   "mimetype": "text/x-python",
   "name": "python",
   "nbconvert_exporter": "python",
   "pygments_lexer": "ipython3",
   "version": "3.7.3"
  }
 },
 "nbformat": 4,
 "nbformat_minor": 2
}
