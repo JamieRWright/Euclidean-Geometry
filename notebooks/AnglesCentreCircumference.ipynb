{
 "cells": [
  {
   "cell_type": "code",
   "execution_count": 1,
   "metadata": {},
   "outputs": [],
   "source": [
    "%run DreamNotation.ipynb"
   ]
  },
  {
   "cell_type": "code",
   "execution_count": 2,
   "metadata": {},
   "outputs": [],
   "source": [
    "A = GeometricWorld.point(\"A\")\n",
    "B = GeometricWorld.point(\"B\")\n",
    "C = GeometricWorld.point(\"C\")\n",
    "P = GeometricWorld.point(\"P\")\n",
    "\n",
    "Γ = Circle(P, 5, \"Circle\") # would be nice to have a circle with variable radius\n",
    " \n",
    "angleAPB = GeometricWorld.angle(A, P, B, \"APB\")\n",
    "angleACB = GeometricWorld.angle(A, C, B, \"ACB\")\n",
    "\n",
    "T = GeometricWorld.triangle(A, B, C)"
   ]
  },
  {
   "cell_type": "code",
   "execution_count": 3,
   "metadata": {},
   "outputs": [
    {
     "data": {
      "text/plain": [
       "True"
      ]
     },
     "execution_count": 3,
     "metadata": {},
     "output_type": "execute_result"
    }
   ],
   "source": [
    "# Angle at centre is twice than that at circumference\n",
    "\n",
    "isAngleSum(angleAPB, angleACB, angleACB) <= (Γ.onCircle(A) \n",
    "                                                  + Γ.onCircle(B) \n",
    "                                                  + Γ.onCircle(C)\n",
    "                                                  + T.nondegenerate()\n",
    "                                                  + angleAPB.tangent()\n",
    "                                                  + angleACB.tangent())"
   ]
  }
 ],
 "metadata": {
  "kernelspec": {
   "display_name": "SageMath 9.1",
   "language": "sage",
   "name": "sagemath"
  },
  "language_info": {
   "codemirror_mode": {
    "name": "ipython",
    "version": 3
   },
   "file_extension": ".py",
   "mimetype": "text/x-python",
   "name": "python",
   "nbconvert_exporter": "python",
   "pygments_lexer": "ipython3",
   "version": "3.7.3"
  }
 },
 "nbformat": 4,
 "nbformat_minor": 2
}
