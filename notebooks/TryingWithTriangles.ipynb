{
 "cells": [
  {
   "cell_type": "code",
   "execution_count": 2,
   "metadata": {},
   "outputs": [
    {
     "data": {
      "text/plain": [
       "True"
      ]
     },
     "execution_count": 2,
     "metadata": {},
     "output_type": "execute_result"
    }
   ],
   "source": [
    "#Triangle with points P1 = (x1,y1), P2 = (y2,x2), P3 = (x3,y3)\n",
    "R.<x1,y1,x2,y2,x3,y3> = PolynomialRing(QQ, 6)\n",
    "\n",
    "# The point P1 - P3 - P2 is a right angle\n",
    "e4 = (y3-y1)*(y2-y3) + (x2-x3)*(x3-x1)\n",
    "\n",
    "# See if pythagoras' theorem holds (P1-P3)^2 + (P2-P3)^2 = (P1-P2)^2\n",
    "e5 = ((x1-x3)^2+(y1-y3)^2) + ((x2-x3)^2+(y2-y3)^2) - ((x1-x2)^2+(y1-y2)^2)\n",
    "\n",
    "I = R.ideal([e4])\n",
    "I\n",
    "e5 in I\n"
   ]
  },
  {
   "cell_type": "code",
   "execution_count": 10,
   "metadata": {},
   "outputs": [
    {
     "data": {
      "text/plain": [
       "False"
      ]
     },
     "execution_count": 10,
     "metadata": {},
     "output_type": "execute_result"
    }
   ],
   "source": [
    "# Triangle with points P1 = (x1,y1), P2 = (y2,x2), P3 = (x3,y3)\n",
    "# Lets assume (x13,y13) lies on the line P1 - P3\n",
    "# Similarly (x23,y23) lies on the line P2 - P3\n",
    "# Similarly (x12,y12) lies on the line P1 - P2\n",
    "R.<x1,y1,x2,y2,x3,y3,x12,y12,x23,y23,x13,y13> = PolynomialRing(QQ, 12)\n",
    "R\n",
    "# P3 - P2 and P1 - P2 intersect at P2\n",
    "e1 = (y3-y23)*(x2-x3) - y2*(x2-x23) + y3*(x2-x23) - (y1-y12)*(x2-x1) + y2*(x1-x12) - y1*(x1-x12) \n",
    "# P1 - P2 and P1 - P3 intersect at P1\n",
    "e2 = (y2-y12)*(x1-x2) - y1*(x2-x12) + y2*(x2-x12) - (y3-y13)*(x1-x3) + y1*(x3-x13) - y3*(x3-x13) \n",
    "\n",
    "# P2 - P3 and P1 - P3 intersect at P3\n",
    "e3 = (y2-y23)*(x1-x2) - y1*(x2-x23) + y2*(x2-x23) - (y1-y13)*(x3-x1) + y3*(x1-x13) - y1*(x1-x13) \n",
    "\n",
    "#The point P1 - P3 - P2 is a right angle\n",
    "e4 = (y2-y1) * (y2-y3) + (x2-x3) * (x3-x1)\n",
    "\n",
    "# See if pythagoras' theorem holds (P1-P3)^2 + (P2-P3)^2 = (P1-P2)^2\n",
    "e5 = ((x1-x3)^2+(y1-y3)^2) + ((x2-x3)^2+(y2-y3)^2) - ((x1-x2)^2+(y1-y2)^2)\n",
    "\n",
    "I = R.ideal([e1, e2, e3, e4])\n",
    "I\n",
    "e5 in I"
   ]
  },
  {
   "cell_type": "code",
   "execution_count": null,
   "metadata": {},
   "outputs": [],
   "source": []
  }
 ],
 "metadata": {
  "kernelspec": {
   "display_name": "SageMath 9.1",
   "language": "sage",
   "name": "sagemath"
  },
  "language_info": {
   "codemirror_mode": {
    "name": "ipython",
    "version": 3
   },
   "file_extension": ".py",
   "mimetype": "text/x-python",
   "name": "python",
   "nbconvert_exporter": "python",
   "pygments_lexer": "ipython3",
   "version": "3.7.3"
  }
 },
 "nbformat": 4,
 "nbformat_minor": 2
}
