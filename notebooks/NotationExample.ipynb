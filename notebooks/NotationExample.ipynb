{
 "cells": [
  {
   "cell_type": "code",
   "execution_count": 1,
   "metadata": {},
   "outputs": [],
   "source": [
    "%run DreamNotation.ipynb"
   ]
  },
  {
   "cell_type": "code",
   "execution_count": 2,
   "metadata": {},
   "outputs": [],
   "source": [
    "A = GeometricWorld.point(\"A\")\n",
    "B = GeometricWorld.point(\"B\")\n",
    "C = GeometricWorld.point(\"C\")\n",
    "D = GeometricWorld.point(\"D\")\n",
    "E = GeometricWorld.point(\"E\")\n",
    "F = GeometricWorld.point(\"F\")\n",
    "\n",
    "H = GeometricWorld.point(\"H\")\n",
    "O = GeometricWorld.point(\"O\")\n",
    "G = GeometricWorld.point(\"G\")\n",
    "N = GeometricWorld.point(\"N\")\n",
    "\n",
    "T = GeometricWorld.triangle(A, B, C, \"T\")\n",
    "\n",
    "\n",
    "P = GeometricWorld.point(\"P\")\n",
    "\n",
    "Ci = Circle(N, 5, \"Circle\")\n",
    "Circle1 = GeometricWorld.circle(O, 10, \"Circle1\")\n",
    "\n",
    "a = g.angle(B, A, C, \"a\")\n",
    "b = g.angle(A, B, C, \"b\")\n",
    "c = g.angle(A, C, B, \"c\")\n",
    "\n",
    "# collinear(H, O, G) <= T.nondegenerate() + orthocentre(H, T) + circumcentre(O, T) + centroid(G, T)"
   ]
  },
  {
   "cell_type": "code",
   "execution_count": 3,
   "metadata": {},
   "outputs": [],
   "source": [
    "N = g.point(\"N\")\n",
    "\n",
    "# midpoint(N, O, H) <= ninePointCentre(N, T)"
   ]
  },
  {
   "cell_type": "code",
   "execution_count": 4,
   "metadata": {},
   "outputs": [
    {
     "data": {
      "text/plain": [
       "Ideal (-1/4*A_x^2 + 1/2*O_y*A_y - 1/4*A_y^2 + 1/2*A_x*O_x - 1/2*O_y*B_y + 1/4*B_y^2 - 1/2*O_x*B_x + 1/4*B_x^2, -1/2*O_y*C_y + 1/4*C_y^2 + 1/2*O_y*B_y - 1/4*B_y^2 - 1/2*O_x*C_x + 1/4*C_x^2 + 1/2*O_x*B_x - 1/4*B_x^2) of Multivariate Polynomial Ring in H_x, T_area_inv, P_x, tan_L1, P_y, A_x, O_y, N_x, G_x, A_y, D_x, N_y, F_x, E_x, E_y, tan_b, F_y, C_y, D_y, G_y, O_x, B_y, tan_c, tan_a, C_x, H_y, B_x over Rational Field"
      ]
     },
     "execution_count": 4,
     "metadata": {},
     "output_type": "execute_result"
    }
   ],
   "source": [
    "T.circumcentre(O)"
   ]
  },
  {
   "cell_type": "code",
   "execution_count": 5,
   "metadata": {},
   "outputs": [
    {
     "data": {
      "text/plain": [
       "Ideal (-H_x*A_x + A_y*C_y - C_y*B_y + A_x*C_x - A_y*H_y + B_y*H_y + H_x*B_x - C_x*B_x, -H_x*A_x + A_y*B_y - C_y*B_y + H_x*C_x - A_y*H_y + C_y*H_y + A_x*B_x - C_x*B_x) of Multivariate Polynomial Ring in H_x, T_area_inv, P_x, tan_L1, P_y, A_x, O_y, N_x, G_x, A_y, D_x, N_y, F_x, E_x, E_y, tan_b, F_y, C_y, D_y, G_y, O_x, B_y, tan_c, tan_a, C_x, H_y, B_x over Rational Field"
      ]
     },
     "execution_count": 5,
     "metadata": {},
     "output_type": "execute_result"
    }
   ],
   "source": [
    "T.orthocentre(H)"
   ]
  },
  {
   "cell_type": "code",
   "execution_count": 6,
   "metadata": {},
   "outputs": [
    {
     "data": {
      "text/plain": [
       "Ideal (A_x - 3*G_x + C_x + B_x, A_y + C_y - 3*G_y + B_y) of Multivariate Polynomial Ring in H_x, T_area_inv, P_x, tan_L1, P_y, A_x, O_y, N_x, G_x, A_y, D_x, N_y, F_x, E_x, E_y, tan_b, F_y, C_y, D_y, G_y, O_x, B_y, tan_c, tan_a, C_x, H_y, B_x over Rational Field"
      ]
     },
     "execution_count": 6,
     "metadata": {},
     "output_type": "execute_result"
    }
   ],
   "source": [
    "T.centroid(G)"
   ]
  },
  {
   "cell_type": "code",
   "execution_count": 7,
   "metadata": {},
   "outputs": [
    {
     "data": {
      "text/plain": [
       "Ideal (-A_x^2 + 4*A_x*N_x - A_y^2 + 4*A_y*N_y - 4*N_y*C_y + C_y^2 - 2*A_y*B_y + 2*C_y*B_y - 4*N_x*C_x + C_x^2 - 2*A_x*B_x + 2*C_x*B_x, 2*A_y*C_y - 4*N_y*C_y + C_y^2 - 2*A_y*B_y + 4*N_y*B_y - B_y^2 + 2*A_x*C_x - 4*N_x*C_x + C_x^2 - 2*A_x*B_x + 4*N_x*B_x - B_x^2, 2*A_x*A_y*C_y - 4*A_x*N_y*C_y + A_x*C_y^2 - 2*A_x*A_y*B_y + 4*A_x*N_y*B_y - A_x*B_y^2 + A_x^2*C_x - A_y^2*C_x + 4*A_y*N_y*C_x - 2*A_y*C_y*C_x - 4*N_y*B_y*C_x + 2*C_y*B_y*C_x + B_y^2*C_x - A_x*C_x^2 - A_x^2*B_x + A_y^2*B_x - 4*A_y*N_y*B_x + 4*N_y*C_y*B_x - C_y^2*B_x + 2*A_y*B_y*B_x - 2*C_y*B_y*B_x + C_x^2*B_x + A_x*B_x^2 - C_x*B_x^2) of Multivariate Polynomial Ring in H_x, T_area_inv, P_x, tan_L1, P_y, A_x, O_y, N_x, G_x, A_y, D_x, N_y, F_x, E_x, E_y, tan_b, F_y, C_y, D_y, G_y, O_x, B_y, tan_c, tan_a, C_x, H_y, B_x over Rational Field"
      ]
     },
     "execution_count": 7,
     "metadata": {},
     "output_type": "execute_result"
    }
   ],
   "source": [
    "T.ninePointCentre(N)"
   ]
  },
  {
   "cell_type": "code",
   "execution_count": 8,
   "metadata": {},
   "outputs": [
    {
     "data": {
      "text/plain": [
       "Ideal (-1/4*A_x^2 + 1/2*O_y*A_y - 1/4*A_y^2 + 1/2*A_x*O_x - 1/2*O_y*B_y + 1/4*B_y^2 - 1/2*O_x*B_x + 1/4*B_x^2, -1/2*O_y*C_y + 1/4*C_y^2 + 1/2*O_y*B_y - 1/4*B_y^2 - 1/2*O_x*C_x + 1/4*C_x^2 + 1/2*O_x*B_x - 1/4*B_x^2) of Multivariate Polynomial Ring in H_x, T_area_inv, P_x, tan_L1, P_y, A_x, O_y, N_x, G_x, A_y, D_x, N_y, F_x, E_x, E_y, tan_b, F_y, C_y, D_y, G_y, O_x, B_y, tan_c, tan_a, C_x, H_y, B_x over Rational Field"
      ]
     },
     "execution_count": 8,
     "metadata": {},
     "output_type": "execute_result"
    }
   ],
   "source": [
    "circumcentre(O, A, B, C)"
   ]
  },
  {
   "cell_type": "code",
   "execution_count": 9,
   "metadata": {},
   "outputs": [
    {
     "data": {
      "text/plain": [
       "Ideal (-H_x*A_x + A_y*C_y - C_y*B_y + A_x*C_x - A_y*H_y + B_y*H_y + H_x*B_x - C_x*B_x, -H_x*A_x + A_y*B_y - C_y*B_y + H_x*C_x - A_y*H_y + C_y*H_y + A_x*B_x - C_x*B_x) of Multivariate Polynomial Ring in H_x, T_area_inv, P_x, tan_L1, P_y, A_x, O_y, N_x, G_x, A_y, D_x, N_y, F_x, E_x, E_y, tan_b, F_y, C_y, D_y, G_y, O_x, B_y, tan_c, tan_a, C_x, H_y, B_x over Rational Field"
      ]
     },
     "execution_count": 9,
     "metadata": {},
     "output_type": "execute_result"
    }
   ],
   "source": [
    "orthocentre(H, A, B, C)"
   ]
  },
  {
   "cell_type": "code",
   "execution_count": 10,
   "metadata": {},
   "outputs": [],
   "source": [
    "r = GeometricWorld.getRing()\n",
    "tan_a = r(a.tan) \n",
    "tan_b = r(b.tan)\n",
    "tan_c = r(c.tan)"
   ]
  },
  {
   "cell_type": "code",
   "execution_count": 11,
   "metadata": {},
   "outputs": [
    {
     "data": {
      "text/plain": [
       "True"
      ]
     },
     "execution_count": 11,
     "metadata": {},
     "output_type": "execute_result"
    }
   ],
   "source": [
    "AB = Line([A, B], \"AB\")\n",
    "\n",
    "CH = Line([C, H], \"CH\")\n",
    "\n",
    "n = GeometricWorld.angle(C, A, H, \"n\")\n",
    "\n",
    "CH.collinear(B)\n",
    "\n",
    "n.isRightAngle() <= Ci.isDiameter(C, H) + Ci.onCircle(A)"
   ]
  },
  {
   "cell_type": "code",
   "execution_count": 12,
   "metadata": {},
   "outputs": [
    {
     "data": {
      "text/plain": [
       "True"
      ]
     },
     "execution_count": 12,
     "metadata": {},
     "output_type": "execute_result"
    }
   ],
   "source": [
    "GH = Line([G, H], \"GH\")\n",
    "\n",
    "GH.collinear(O) <= (T.nondegenerate() \n",
    "                             + T.orthocentre(H) \n",
    "                             + T.circumcentre(O)\n",
    "                             + T.centroid(G))"
   ]
  },
  {
   "cell_type": "code",
   "execution_count": 13,
   "metadata": {},
   "outputs": [
    {
     "data": {
      "text/plain": [
       "True"
      ]
     },
     "execution_count": 13,
     "metadata": {},
     "output_type": "execute_result"
    }
   ],
   "source": [
    "mBC = Point.midpoint(B, C, \"mBC\")\n",
    "Ci.onCircle(mBC) <= (T.nondegenerate() \n",
    "                             + T.orthocentre(H) \n",
    "                             + T.circumcentre(O)\n",
    "                             + T.centroid(G)\n",
    "                             + T.ninePointCentre(N)\n",
    "                             + isDistance(Ci.radius, N, Point.midpoint(A,B, \"mAB\")))"
   ]
  },
  {
   "cell_type": "code",
   "execution_count": 14,
   "metadata": {},
   "outputs": [
    {
     "data": {
      "text/plain": [
       "Ideal (-1/2*T_area_inv*A_x*C_y + 1/2*T_area_inv*A_x*B_y + 1/2*T_area_inv*A_y*C_x - 1/2*T_area_inv*B_y*C_x - 1/2*T_area_inv*A_y*B_x + 1/2*T_area_inv*C_y*B_x - 1) of Multivariate Polynomial Ring in H_x, T_area_inv, P_x, tan_L1, P_y, tan_GH, tan_CH, tan_n, A_x, O_y, N_x, G_x, A_y, D_x, N_y, F_x, E_x, E_y, tan_b, F_y, C_y, D_y, tan_AB, G_y, O_x, B_y, tan_c, tan_a, C_x, H_y, B_x over Rational Field"
      ]
     },
     "execution_count": 14,
     "metadata": {},
     "output_type": "execute_result"
    }
   ],
   "source": [
    "T.nondegenerate()"
   ]
  },
  {
   "cell_type": "code",
   "execution_count": 15,
   "metadata": {},
   "outputs": [
    {
     "data": {
      "text/plain": [
       "True"
      ]
     },
     "execution_count": 15,
     "metadata": {},
     "output_type": "execute_result"
    }
   ],
   "source": [
    "Ci.onCircle(F) <= (T.nondegenerate() \n",
    "                             + T.orthocentre(H) \n",
    "                             + T.circumcentre(O)\n",
    "                             + T.centroid(G)\n",
    "                             + T.ninePointCentre(N)\n",
    "                             + isDistance(Ci.radius, N, Point.midpoint(A,B, \"mAB\"))\n",
    "                             + perpendicularFoot(F, B, A, C))"
   ]
  },
  {
   "cell_type": "code",
   "execution_count": 20,
   "metadata": {},
   "outputs": [
    {
     "data": {
      "text/plain": [
       "Ideal (P_x^2 + P_y^2 - 2*P_x*A_x + A_x^2 - 2*P_y*A_y + A_y^2 - 25) of Multivariate Polynomial Ring in H_x, T_area_inv, P_x, tan_L1, P_y, tan_GH, tan_p, v, tan_CH, tan_n, A_x, O_y, N_x, G_x, A_y, D_x, N_y, T1_area_inv, F_x, E_x, E_y, tan_b, F_y, C_y, D_y, tan_AB, G_y, O_x, B_y, tan_c, tan_a, C_x, H_y, B_x, u, tan_CD over Rational Field"
      ]
     },
     "execution_count": 20,
     "metadata": {},
     "output_type": "execute_result"
    }
   ],
   "source": [
    "Circle.onCircle(A)"
   ]
  },
  {
   "cell_type": "code",
   "execution_count": 17,
   "metadata": {},
   "outputs": [
    {
     "data": {
      "text/plain": [
       "True"
      ]
     },
     "execution_count": 17,
     "metadata": {},
     "output_type": "execute_result"
    }
   ],
   "source": [
    "#Power Of a Point\n",
    "goal = squareDistance(P,A)*squareDistance(P,B) - squareDistance(P,C)*squareDistance(P,D)\n",
    "\n",
    "CD = GeometricWorld.line([C,D], \"CD\")\n",
    "\n",
    "u = GeometricWorld.new_variable(\"u\")\n",
    "v = GeometricWorld.new_variable(\"v\")\n",
    "\n",
    "r = GeometricWorld.getRing()\n",
    "\n",
    "goal <= (Circle1.onCircle(A) \n",
    "         + Circle1.onCircle(B) \n",
    "         + Circle1.onCircle(C) \n",
    "         + Circle1.onCircle(D) \n",
    "         + AB.collinear(P)\n",
    "         + CD.collinear(P) \n",
    "         + r.ideal([r(u)*(r(A.x)-r(B.x)) - 1, r(v)*(r(C.x)-r(D.x)) - 1]))"
   ]
  },
  {
   "cell_type": "code",
   "execution_count": 18,
   "metadata": {},
   "outputs": [
    {
     "data": {
      "text/plain": [
       "Ideal (-tan_p*tan_c^2 + tan_p - 2*tan_c) of Multivariate Polynomial Ring in H_x, T_area_inv, P_x, tan_L1, P_y, tan_GH, tan_p, v, tan_CH, tan_n, A_x, O_y, N_x, G_x, A_y, D_x, N_y, F_x, E_x, E_y, tan_b, F_y, C_y, D_y, tan_AB, G_y, O_x, B_y, tan_c, tan_a, C_x, H_y, B_x, u, tan_CD over Rational Field"
      ]
     },
     "execution_count": 18,
     "metadata": {},
     "output_type": "execute_result"
    }
   ],
   "source": [
    "isAngleSum(angleAPB, angleACB, angleACB)"
   ]
  },
  {
   "cell_type": "code",
   "execution_count": 19,
   "metadata": {},
   "outputs": [
    {
     "data": {
      "text/plain": [
       "True"
      ]
     },
     "execution_count": 19,
     "metadata": {},
     "output_type": "execute_result"
    }
   ],
   "source": [
    "#Cevas Thm\n",
    "cevaThm = squareDistance(A,F)*squareDistance(B,D)*squareDistance(C,E) - squareDistance(F,B)*squareDistance(D,C)*squareDistance(E,A) \n",
    "\n",
    "cevaThm <= T.cevians(D, E, F, O) + T.nondegenerate()"
   ]
  },
  {
   "cell_type": "code",
   "execution_count": null,
   "metadata": {},
   "outputs": [],
   "source": []
  }
 ],
 "metadata": {
  "kernelspec": {
   "display_name": "SageMath 9.1",
   "language": "sage",
   "name": "sagemath"
  },
  "language_info": {
   "codemirror_mode": {
    "name": "ipython",
    "version": 3
   },
   "file_extension": ".py",
   "mimetype": "text/x-python",
   "name": "python",
   "nbconvert_exporter": "python",
   "pygments_lexer": "ipython3",
   "version": "3.7.3"
  }
 },
 "nbformat": 4,
 "nbformat_minor": 2
}
