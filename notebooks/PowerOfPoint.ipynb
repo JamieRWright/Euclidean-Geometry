{
 "cells": [
  {
   "cell_type": "code",
   "execution_count": 1,
   "metadata": {},
   "outputs": [
    {
     "data": {
      "text/plain": [
       "True"
      ]
     },
     "execution_count": 1,
     "metadata": {},
     "output_type": "execute_result"
    },
    {
     "name": "stdout",
     "output_type": "stream",
     "text": [
      "The history saving thread hit an unexpected error (OperationalError('database is locked')).History will not be written to the database.\n"
     ]
    }
   ],
   "source": [
    "# This is a fairly horrible solution to the power-of-a-point problem\n",
    "\n",
    "# We simply assume that xA and xB are different, by adjoining a new variable u with the property that u(xA-xB) = 1, and hence that\n",
    "# xA-xB is nonzero. Similarly, we assume xC and xD are different. This solves it.\n",
    "\n",
    "R.<x0,y0,xA,yA,r,xB,yB,xC,yC,xD,yD,xP,yP,u,v> = PolynomialRing(QQ, 15)\n",
    "\n",
    "A = (xA,yA)\n",
    "B = (xB,yB)\n",
    "C = (xC,yC)\n",
    "D = (xD,yD)\n",
    "O = (x0,y0)\n",
    "P = (xP,yP)\n",
    "\n",
    "def onCircle(P, O, r):\n",
    "    \"P lies on circle, centre O, radius r\"\n",
    "    (px, py) = P\n",
    "    (ox, oy) = O\n",
    "    return (px-ox)^2 + (py-oy)^2 - r^2\n",
    "\n",
    "def parallel(P1, Q1, P2, Q2):\n",
    "    \"P1Q1 is parallel to P2Q2\"\n",
    "    (p1x, p1y) = P1\n",
    "    (q1x, q1y) = Q1\n",
    "    (p2x, p2y) = P2\n",
    "    (q2x, q2y) = Q2\n",
    "    return (q1y-p1y)*(q2x-p2x) - (q2y-p2y)*(q1x-p1x)\n",
    "\n",
    "def collinear(P, Q, R):\n",
    "    \"P, Q, and R are collinear\"\n",
    "    return parallel(P,R,Q,R)\n",
    "\n",
    "def perpendicular(P, Q, R):\n",
    "    \"The angle at PQR is a right angle\"\n",
    "    (px, py) = P\n",
    "    (qx, qy) = Q\n",
    "    (rx, ry) = R   \n",
    "    return(qy-py)*(ry-qy) + (rx-qx)*(qx-px)\n",
    "\n",
    "def squareDistance(P, Q):\n",
    "    (px, py) = P\n",
    "    (qx, qy) = Q\n",
    "    return (px-qx)^2 + (py-qy)^2\n",
    "    \n",
    "I = R.ideal([\n",
    "    onCircle(A, O, r),\n",
    "    onCircle(B, O, r),\n",
    "    onCircle(C, O, r),\n",
    "    onCircle(D, O, r),\n",
    "    collinear(A, B, P),\n",
    "    collinear(C, D, P),\n",
    "    u*(xA-xB) - 1,\n",
    "    v*(xC-xD) - 1])\n",
    "\n",
    "goal = squareDistance(P,A)*squareDistance(P,B) - squareDistance(P,C)*squareDistance(P,D)\n",
    "\n",
    "goal in I\n"
   ]
  },
  {
   "cell_type": "code",
   "execution_count": null,
   "metadata": {},
   "outputs": [],
   "source": []
  }
 ],
 "metadata": {
  "kernelspec": {
   "display_name": "SageMath 9.0",
   "language": "sage",
   "name": "sagemath"
  },
  "language_info": {
   "codemirror_mode": {
    "name": "ipython",
    "version": 3
   },
   "file_extension": ".py",
   "mimetype": "text/x-python",
   "name": "python",
   "nbconvert_exporter": "python",
   "pygments_lexer": "ipython3",
   "version": "3.7.3"
  }
 },
 "nbformat": 4,
 "nbformat_minor": 2
}
