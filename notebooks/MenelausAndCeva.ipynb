{
 "cells": [
  {
   "cell_type": "code",
   "execution_count": 1,
   "metadata": {},
   "outputs": [],
   "source": [
    "# Runs the Functions.ipynb file and sets the functions\n",
    "%run Functions.ipynb"
   ]
  },
  {
   "cell_type": "code",
   "execution_count": 2,
   "metadata": {},
   "outputs": [
    {
     "data": {
      "text/plain": [
       "True"
      ]
     },
     "execution_count": 2,
     "metadata": {},
     "output_type": "execute_result"
    }
   ],
   "source": [
    "# Ceva's Theorem with Functions.ipynb dependency\n",
    "ambientRing.<xA,yA,xB,yB,xC,yC,xD,yD,xE,yE,xF,yF,xH,yH,xO,yO,xG,yG,area1,d>  = PolynomialRing(QQ, 20)\n",
    "ideals = GeometricContext(ambientRing)\n",
    "\n",
    "#Triangle ABC\n",
    "A = (xA, yA)\n",
    "B = (xB, yB)\n",
    "C = (xC, yC)\n",
    "\n",
    "D = (xD, yD)\n",
    "E = (xE, yE)\n",
    "F = (xF, yF)\n",
    "O = (xO, yO)\n",
    "# O need not lie on the sides of ABC\n",
    "# solved by triangleNondegenerate(D, E, F, d) \n",
    "# This function has been used since if the points DEF are a non degenerate triangle then they are not collinear\n",
    "# DEF are collinear iff O lies on the triangle ABC\n",
    "\n",
    "def cevians(A, B, C, D, E, F, O):\n",
    "    \"Defines the three cevians AD, BE, and CF of triangle ABC with point O\"\n",
    "    return (ideals.triangleNondegenerate(D, E, F, d) \n",
    "            + ideals.collinear(A,O,D) \n",
    "            + ideals.collinear(B,O,E) \n",
    "            + ideals.collinear(C,O,F) \n",
    "            + ideals.collinear(A,F,B) \n",
    "            + ideals.collinear(B,D,C) \n",
    "            + ideals.collinear(A,E,C))\n",
    "\n",
    "\n",
    "\n",
    "# the parameter d is used as running the functions from the notebook module requires the same ring (area1 already referenced)\n",
    "# this is not suitable though since d defines a distance for the isDistance function\n",
    "# Need to be solved, however will leave this until a meeting to discuss how to go forward\n",
    "\n",
    "cevaThm = squareDistance(A,F)*squareDistance(B,D)*squareDistance(C,E) - squareDistance(F,B)*squareDistance(D,C)*squareDistance(E,A) \n",
    "\n",
    "cevaThm in cevians(A,B,C,D,E,F,O) + ideals.triangleNondegenerate(A,B,C,area1)"
   ]
  },
  {
   "cell_type": "code",
   "execution_count": 3,
   "metadata": {},
   "outputs": [
    {
     "data": {
      "text/plain": [
       "False"
      ]
     },
     "execution_count": 3,
     "metadata": {},
     "output_type": "execute_result"
    }
   ],
   "source": [
    "# Menelaus' Theorem\n",
    "AmbientRing.<xA,yA,xB,yB,xC,yC,xD,yD,xE,yE,xF,yF,xH,yH,xO,yO,xG,yG,area1,d>  = PolynomialRing(QQ, 20)\n",
    "ideals = GeometricContext(ambientRing)\n",
    "D = (xD, yD)\n",
    "E = (xE, yE)\n",
    "F = (xF, yF)\n",
    "O = (xO, yO)\n",
    "def traversalLine (A,B,C,D,E,F):\n",
    "    \"Traversal line which crosses BC, AC, and AB at points D, E, and F respectively\"\n",
    "    return (ideals.collinear(A,E,C) \n",
    "            + ideals.collinear(B,D,C) \n",
    "            + ideals.collinear(A,B,F) \n",
    "            + ideals.collinear(D,E,F))\n",
    "# Need to define the points D, E and F to be distinct from A, B and C\n",
    "# Not sure of the most efficient and precise way of doing this\n",
    "\n",
    "# AF x BD x CE = -FB x DC x EA\n",
    "menelausThm = squareDistance(A,F)*squareDistance(B,D)*squareDistance(C,E) + squareDistance(F,B)*squareDistance(D,C)*squareDistance(E,A) \n",
    "\n",
    "menelausThm in traversalLine(A,B,C,D,E,F) + ideals.triangleNondegenerate(A, B, C, area1)\n"
   ]
  },
  {
   "cell_type": "code",
   "execution_count": null,
   "metadata": {},
   "outputs": [],
   "source": [
    " #An idea for Menelaus, probably not going to be fruitful\n",
    "\n",
    "# D, E, and F are distinct from A, B, and C\n",
    "I = AmbientRing.ideal([])\n",
    "triangleVertices = [A,B,C]\n",
    "for x in triangleVertices:\n",
    "    I = I + distinctPoint(x, D, a) + distinctPoint(x, E, b) + distinctPoint(x, F, c) "
   ]
  },
  {
   "cell_type": "code",
   "execution_count": null,
   "metadata": {},
   "outputs": [],
   "source": []
  }
 ],
 "metadata": {
  "kernelspec": {
   "display_name": "SageMath 9.0",
   "language": "sage",
   "name": "sagemath"
  },
  "language_info": {
   "codemirror_mode": {
    "name": "ipython",
    "version": 3
   },
   "file_extension": ".py",
   "mimetype": "text/x-python",
   "name": "python",
   "nbconvert_exporter": "python",
   "pygments_lexer": "ipython3",
   "version": "3.7.3"
  }
 },
 "nbformat": 4,
 "nbformat_minor": 2
}
