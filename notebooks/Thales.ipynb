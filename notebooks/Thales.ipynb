{
 "cells": [
  {
   "cell_type": "code",
   "execution_count": 1,
   "metadata": {},
   "outputs": [],
   "source": [
    "# Thales' theorem\n",
    "# \"The angle in a semicircle is a right angle\"\n",
    "# circle C, centre O=(xO,yO), radius r\n",
    "# two points on it, P=(xP,yP), Q=(xQ,yQ), form a diameter\n",
    "# another point on R, R=(xR,yR)\n",
    "# punchline is supposed to be...\n",
    "# the angle P-R-Q is 90 degrees\n",
    "%run Functions.ipynb\n",
    "\n",
    "ambientRing.<xO,yO,r,xP,yP,xQ,yQ,xR,yR> = PolynomialRing(QQ, 9)\n",
    "ideals = GeometricContext(ambientRing)\n",
    "O=(xO,yO)\n",
    "P=(xP,yP)\n",
    "Q=(xQ,yQ)\n",
    "R=(xR,yR)\n",
    "\n",
    "I = ideals.isDiameter(P, Q, O, r)"
   ]
  },
  {
   "cell_type": "code",
   "execution_count": 2,
   "metadata": {},
   "outputs": [
    {
     "data": {
      "text/plain": [
       "True"
      ]
     },
     "execution_count": 2,
     "metadata": {},
     "output_type": "execute_result"
    }
   ],
   "source": [
    "# e2 is actually unnecessary, since if you know P1, P0, P2 are equally spaced\n",
    "# and P1 lies on C which has centre P0, then P2 automatically lies on C.\n",
    "ideals.onCircle(Q, O, r) <= ideals.isDiameter(P, Q, O, r) + ideals.onCircle(R, O, r)"
   ]
  },
  {
   "cell_type": "code",
   "execution_count": 3,
   "metadata": {},
   "outputs": [
    {
     "data": {
      "text/plain": [
       "True"
      ]
     },
     "execution_count": 3,
     "metadata": {},
     "output_type": "execute_result"
    }
   ],
   "source": [
    "# Do we have P1 - P3 - P2 a right angle?\n",
    "# ie, do we have (y3-y1)/(x3-x1) = (-1) * (x2-x3)/(y2-y3) ?\n",
    "# ie, do we have (y3-y1) * (y2-y3) = (-1) * (x2-x3) * (x3-x1) ?\n",
    "# ie, do we have (y3-y1) * (y2-y3) + (x2-x3) * (x3-x1) = 0 ?\n",
    "\n",
    "ideals.rightAngle(P,R,Q) <= ideals.isDiameter(P, Q, O, r) + ideals.onCircle(R, O, r)"
   ]
  },
  {
   "cell_type": "code",
   "execution_count": 5,
   "metadata": {},
   "outputs": [
    {
     "data": {
      "text/plain": [
       "True"
      ]
     },
     "execution_count": 5,
     "metadata": {},
     "output_type": "execute_result"
    }
   ],
   "source": [
    "# Converse of Thales theorem\n",
    "# We assume that P1-P2 is a line with midpoint P0, and that P1-P3-P2 is a right angle,\n",
    "# and deduce that P3 lies on the circle with diameter P1-P2\n",
    "ideals.onCircle(R, O, r) <= ideals.isDiameter(P, Q, O, r) + ideals.rightAngle(P,R,Q)"
   ]
  },
  {
   "cell_type": "code",
   "execution_count": null,
   "metadata": {},
   "outputs": [],
   "source": []
  }
 ],
 "metadata": {
  "kernelspec": {
   "display_name": "SageMath 9.0",
   "language": "sage",
   "name": "sagemath"
  },
  "language_info": {
   "codemirror_mode": {
    "name": "ipython",
    "version": 3
   },
   "file_extension": ".py",
   "mimetype": "text/x-python",
   "name": "python",
   "nbconvert_exporter": "python",
   "pygments_lexer": "ipython3",
   "version": "3.7.3"
  }
 },
 "nbformat": 4,
 "nbformat_minor": 2
}
