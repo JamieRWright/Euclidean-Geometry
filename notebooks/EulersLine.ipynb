{
 "cells": [
  {
   "cell_type": "code",
   "execution_count": 1,
   "metadata": {},
   "outputs": [],
   "source": [
    "%run Functions.ipynb\n",
    "\n",
    "\n",
    "ambientRing.<xA,yA,xB,yB,xC,yC,xN,yN,xD,yD,xE,yE,xF,yF,xH,yH,xO,yO,xG,yG,area1,d> = PolynomialRing(QQ, 22)\n",
    "ideals = GeometricContext(ambientRing)\n",
    "#Triangle ABC\n",
    "A = (xA, yA)\n",
    "B = (xB, yB)\n",
    "C = (xC, yC)\n",
    "\n",
    "# Orthocentre \n",
    "H = (xH, yH)\n",
    "\n",
    "# Circumcentre\n",
    "O = (xO, yO)\n",
    "\n",
    "# Centroid\n",
    "G = (xG, yG)"
   ]
  },
  {
   "cell_type": "code",
   "execution_count": 2,
   "metadata": {},
   "outputs": [
    {
     "data": {
      "text/plain": [
       "True"
      ]
     },
     "execution_count": 2,
     "metadata": {},
     "output_type": "execute_result"
    }
   ],
   "source": [
    "# The orthocentre is the intersection of all three altitudes\n",
    "ideals.perpendicular(B,C,H,A) <= ideals.orthocentre(H, A, B, C)"
   ]
  },
  {
   "cell_type": "code",
   "execution_count": 3,
   "metadata": {},
   "outputs": [
    {
     "data": {
      "text/plain": [
       "True"
      ]
     },
     "execution_count": 3,
     "metadata": {},
     "output_type": "execute_result"
    }
   ],
   "source": [
    "mBC = ((xB+xC)/2, (yB + yC)/2)\n",
    "ideals.collinear(A, G, mBC) <= ideals.centroid(G, A, B, C)"
   ]
  },
  {
   "cell_type": "code",
   "execution_count": 4,
   "metadata": {},
   "outputs": [
    {
     "data": {
      "text/plain": [
       "True"
      ]
     },
     "execution_count": 4,
     "metadata": {},
     "output_type": "execute_result"
    }
   ],
   "source": [
    "mCA = ((xC + xA)/2, (yC + yA)/2)\n",
    "ideals.collinear(B, G, mCA) <= ideals.centroid(G, A, B, C)"
   ]
  },
  {
   "cell_type": "code",
   "execution_count": 5,
   "metadata": {},
   "outputs": [
    {
     "data": {
      "text/plain": [
       "True"
      ]
     },
     "execution_count": 5,
     "metadata": {},
     "output_type": "execute_result"
    }
   ],
   "source": [
    "mAB = ((xA + xB)/2, (yA + yB)/2)\n",
    "ideals.collinear(C, G, mAB) <= ideals.centroid(G, A, B, C)"
   ]
  },
  {
   "cell_type": "code",
   "execution_count": 6,
   "metadata": {},
   "outputs": [
    {
     "data": {
      "text/plain": [
       "True"
      ]
     },
     "execution_count": 6,
     "metadata": {},
     "output_type": "execute_result"
    }
   ],
   "source": [
    "# Two of these (above) is enough: the third relation follows\n",
    "ideals.rightAngle(C, mCA, O) <= ideals.circumcentre(O, A, B, C)"
   ]
  },
  {
   "cell_type": "code",
   "execution_count": 7,
   "metadata": {
    "scrolled": true
   },
   "outputs": [
    {
     "data": {
      "text/plain": [
       "True"
      ]
     },
     "execution_count": 7,
     "metadata": {},
     "output_type": "execute_result"
    }
   ],
   "source": [
    "# All centres of a triangle are collinear\n",
    "ideals.collinear(H, O, G) <= (ideals.triangleNondegenerate(A, B, C, area1)\n",
    "                              + ideals.orthocentre(H, A, B, C)\n",
    "                              + ideals.circumcentre(O, A, B, C)\n",
    "                              + ideals.centroid(G, A, B, C))"
   ]
  },
  {
   "cell_type": "code",
   "execution_count": 8,
   "metadata": {},
   "outputs": [
    {
     "data": {
      "text/plain": [
       "True"
      ]
     },
     "execution_count": 8,
     "metadata": {},
     "output_type": "execute_result"
    }
   ],
   "source": [
    "# This says 2OG = GH\n",
    "2*(xO-xG) - (xG-xH) <=  (ideals.triangleNondegenerate(A, B, C, area1)\n",
    "                              + ideals.orthocentre(H, A, B, C)\n",
    "                              + ideals.circumcentre(O, A, B, C)\n",
    "                              + ideals.centroid(G, A, B, C))"
   ]
  },
  {
   "cell_type": "code",
   "execution_count": 9,
   "metadata": {},
   "outputs": [
    {
     "data": {
      "text/plain": [
       "True"
      ]
     },
     "execution_count": 9,
     "metadata": {},
     "output_type": "execute_result"
    }
   ],
   "source": [
    "2*(yO-yG) - (yG-yH) <=  (ideals.triangleNondegenerate(A, B, C, area1)\n",
    "                              + ideals.orthocentre(H, A, B, C)\n",
    "                              + ideals.circumcentre(O, A, B, C)\n",
    "                              + ideals.centroid(G, A, B, C))"
   ]
  },
  {
   "cell_type": "code",
   "execution_count": 10,
   "metadata": {},
   "outputs": [
    {
     "data": {
      "text/plain": [
       "True"
      ]
     },
     "execution_count": 10,
     "metadata": {},
     "output_type": "execute_result"
    }
   ],
   "source": [
    "# The midpoint N of OH is the centre of a circle that passes through:\n",
    "N = (xN, yN)\n",
    "\n",
    "# the midpoint of AB lies on circle\n",
    "ideals.onCircle(mAB, N, d) <= (ideals.triangleNondegenerate(A, B, C, area1)\n",
    "                      + ideals.orthocentre(H, A, B, C) \n",
    "                      + ideals.circumcentre(O, A, B, C)\n",
    "                      + ideals.centroid(G, A, B, C) \n",
    "                      + ideals.isDistance(d, N, mAB) \n",
    "                      + ideals.ninePointCentre(N,A,B,C))"
   ]
  },
  {
   "cell_type": "code",
   "execution_count": 11,
   "metadata": {},
   "outputs": [
    {
     "data": {
      "text/plain": [
       "True"
      ]
     },
     "execution_count": 11,
     "metadata": {},
     "output_type": "execute_result"
    }
   ],
   "source": [
    "# the midpoint of BC lies on circle\n",
    "ideals.onCircle(mBC, N, d) <= (ideals.triangleNondegenerate(A, B, C, area1)\n",
    "                      + ideals.orthocentre(H, A, B, C) \n",
    "                      + ideals.circumcentre(O, A, B, C)\n",
    "                      + ideals.centroid(G, A, B, C) \n",
    "                      + ideals.isDistance(d, N, mAB) \n",
    "                      + ideals.ninePointCentre(N,A,B,C))"
   ]
  },
  {
   "cell_type": "code",
   "execution_count": 12,
   "metadata": {},
   "outputs": [
    {
     "data": {
      "text/plain": [
       "True"
      ]
     },
     "execution_count": 12,
     "metadata": {},
     "output_type": "execute_result"
    }
   ],
   "source": [
    "# the midpoint of BC lies on circle\n",
    "ideals.onCircle(mCA, N, d) <= (ideals.triangleNondegenerate(A, B, C, area1)\n",
    "                      + ideals.orthocentre(H, A, B, C) \n",
    "                      + ideals.circumcentre(O, A, B, C)\n",
    "                      + ideals.centroid(G, A, B, C) \n",
    "                      + ideals.isDistance(d, N, mAB) \n",
    "                      + ideals.ninePointCentre(N,A,B,C))"
   ]
  },
  {
   "cell_type": "code",
   "execution_count": 13,
   "metadata": {},
   "outputs": [
    {
     "data": {
      "text/plain": [
       "True"
      ]
     },
     "execution_count": 13,
     "metadata": {},
     "output_type": "execute_result"
    }
   ],
   "source": [
    "# the midpoint of the line AH lies on the circle\n",
    "mAH = ((xA + xH)/2, (yA + yH)/2)\n",
    "ideals.onCircle(mAH, N, d) <= (ideals.triangleNondegenerate(A, B, C, area1)\n",
    "                      + ideals.orthocentre(H, A, B, C) \n",
    "                      + ideals.circumcentre(O, A, B, C)\n",
    "                      + ideals.centroid(G, A, B, C) \n",
    "                      + ideals.isDistance(d, N, mAB) \n",
    "                      + ideals.ninePointCentre(N,A,B,C))"
   ]
  },
  {
   "cell_type": "code",
   "execution_count": 14,
   "metadata": {},
   "outputs": [
    {
     "data": {
      "text/plain": [
       "True"
      ]
     },
     "execution_count": 14,
     "metadata": {},
     "output_type": "execute_result"
    }
   ],
   "source": [
    "# the midpoint of the line BH lies on the circle\n",
    "mBH = ((xB + xH)/2, (yB + yH)/2)\n",
    "ideals.onCircle(mBH, N, d) <= (ideals.triangleNondegenerate(A, B, C, area1)\n",
    "                      + ideals.orthocentre(H, A, B, C) \n",
    "                      + ideals.circumcentre(O, A, B, C)\n",
    "                      + ideals.centroid(G, A, B, C) \n",
    "                      + ideals.isDistance(d, N, mAB) \n",
    "                      + ideals.ninePointCentre(N,A,B,C))"
   ]
  },
  {
   "cell_type": "code",
   "execution_count": 15,
   "metadata": {},
   "outputs": [
    {
     "data": {
      "text/plain": [
       "True"
      ]
     },
     "execution_count": 15,
     "metadata": {},
     "output_type": "execute_result"
    }
   ],
   "source": [
    "# the midpoint of the line CH lies on the circle\n",
    "mCH = ((xC + xH)/2, (yC + yH)/2)\n",
    "ideals.onCircle(mCH, N, d) <= (ideals.triangleNondegenerate(A, B, C, area1)\n",
    "                      + ideals.orthocentre(H, A, B, C) \n",
    "                      + ideals.circumcentre(O, A, B, C)\n",
    "                      + ideals.centroid(G, A, B, C) \n",
    "                      + ideals.isDistance(d, N, mAB) \n",
    "                      + ideals.ninePointCentre(N,A,B,C))"
   ]
  },
  {
   "cell_type": "code",
   "execution_count": 16,
   "metadata": {},
   "outputs": [
    {
     "data": {
      "text/plain": [
       "True"
      ]
     },
     "execution_count": 16,
     "metadata": {},
     "output_type": "execute_result"
    }
   ],
   "source": [
    "# The foot D of the altitude AH lies on the circle\n",
    "# D is the foot of the altitude from A onto BC\n",
    "\n",
    "D = (xD, yD)\n",
    "\n",
    "ideals.onCircle(D, N, d) <= (ideals.triangleNondegenerate(A, B, C, area1) \n",
    "                             + ideals.orthocentre(H, A, B, C) \n",
    "                             + ideals.circumcentre(O, A, B, C)\n",
    "                             + ideals.centroid(G, A, B, C) \n",
    "                             + ideals.isDistance(d, N, mAB) \n",
    "                             + ideals.ninePointCentre(N,A,B,C) \n",
    "                             + ideals.perpendicularFoot(D, B, A, C))"
   ]
  },
  {
   "cell_type": "code",
   "execution_count": 17,
   "metadata": {},
   "outputs": [
    {
     "data": {
      "text/plain": [
       "True"
      ]
     },
     "execution_count": 17,
     "metadata": {},
     "output_type": "execute_result"
    }
   ],
   "source": [
    "# The foot E of the altitude AH lies on the circle\n",
    "# E is the foot of the altitude from B onto AC\n",
    "E = (xE, yE)\n",
    "\n",
    "ideals.onCircle(E, N, d) <= (ideals.triangleNondegenerate(A, B, C, area1) \n",
    "                             + ideals.orthocentre(H, A, B, C) \n",
    "                             + ideals.circumcentre(O, A, B, C)\n",
    "                             + ideals.centroid(G, A, B, C) \n",
    "                             + ideals.isDistance(d, N, mAB) \n",
    "                             + ideals.ninePointCentre(N,A,B,C) \n",
    "                             + ideals.perpendicularFoot(E, B, A, C))"
   ]
  },
  {
   "cell_type": "code",
   "execution_count": 18,
   "metadata": {},
   "outputs": [
    {
     "ename": "NameError",
     "evalue": "name 'onCircle' is not defined",
     "output_type": "error",
     "traceback": [
      "\u001b[0;31m---------------------------------------------------------------------------\u001b[0m",
      "\u001b[0;31mNameError\u001b[0m                                 Traceback (most recent call last)",
      "\u001b[0;32m<ipython-input-18-b1d2b7701fd4>\u001b[0m in \u001b[0;36m<module>\u001b[0;34m()\u001b[0m\n\u001b[1;32m      3\u001b[0m \u001b[0mF\u001b[0m \u001b[0;34m=\u001b[0m \u001b[0;34m(\u001b[0m\u001b[0mxF\u001b[0m\u001b[0;34m,\u001b[0m \u001b[0myF\u001b[0m\u001b[0;34m)\u001b[0m\u001b[0;34m\u001b[0m\u001b[0;34m\u001b[0m\u001b[0m\n\u001b[1;32m      4\u001b[0m \u001b[0;34m\u001b[0m\u001b[0m\n\u001b[0;32m----> 5\u001b[0;31m onCircle(F, N, d) <= (ideals.triangleNondegenerate(A, B, C, area1) \n\u001b[0m\u001b[1;32m      6\u001b[0m                              \u001b[0;34m+\u001b[0m \u001b[0mideals\u001b[0m\u001b[0;34m.\u001b[0m\u001b[0morthocentre\u001b[0m\u001b[0;34m(\u001b[0m\u001b[0mH\u001b[0m\u001b[0;34m,\u001b[0m \u001b[0mA\u001b[0m\u001b[0;34m,\u001b[0m \u001b[0mB\u001b[0m\u001b[0;34m,\u001b[0m \u001b[0mC\u001b[0m\u001b[0;34m)\u001b[0m\u001b[0;34m\u001b[0m\u001b[0;34m\u001b[0m\u001b[0m\n\u001b[1;32m      7\u001b[0m                              \u001b[0;34m+\u001b[0m \u001b[0mideals\u001b[0m\u001b[0;34m.\u001b[0m\u001b[0mcircumcentre\u001b[0m\u001b[0;34m(\u001b[0m\u001b[0mO\u001b[0m\u001b[0;34m,\u001b[0m \u001b[0mA\u001b[0m\u001b[0;34m,\u001b[0m \u001b[0mB\u001b[0m\u001b[0;34m,\u001b[0m \u001b[0mC\u001b[0m\u001b[0;34m)\u001b[0m\u001b[0;34m\u001b[0m\u001b[0;34m\u001b[0m\u001b[0m\n",
      "\u001b[0;31mNameError\u001b[0m: name 'onCircle' is not defined"
     ]
    }
   ],
   "source": [
    "# The foot F of the altitude AH lies on the circle\n",
    "# F is the foot of the altitude from C onto AB\n",
    "F = (xF, yF)\n",
    "\n",
    "ideals.onCircle(F, N, d) <= (ideals.triangleNondegenerate(A, B, C, area1) \n",
    "                             + ideals.orthocentre(H, A, B, C) \n",
    "                             + ideals.circumcentre(O, A, B, C)\n",
    "                             + ideals.centroid(G, A, B, C) \n",
    "                             + ideals.isDistance(d, N, mAB) \n",
    "                             + ideals.ninePointCentre(N,A,B,C) \n",
    "                             + ideals.perpendicularFoot(F, B, A, C))"
   ]
  },
  {
   "cell_type": "code",
   "execution_count": null,
   "metadata": {},
   "outputs": [],
   "source": []
  }
 ],
 "metadata": {
  "kernelspec": {
   "display_name": "SageMath 9.0",
   "language": "sage",
   "name": "sagemath"
  },
  "language_info": {
   "codemirror_mode": {
    "name": "ipython",
    "version": 3
   },
   "file_extension": ".py",
   "mimetype": "text/x-python",
   "name": "python",
   "nbconvert_exporter": "python",
   "pygments_lexer": "ipython3",
   "version": "3.7.3"
  }
 },
 "nbformat": 4,
 "nbformat_minor": 2
}
